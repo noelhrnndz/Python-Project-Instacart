{
 "cells": [
  {
   "cell_type": "markdown",
   "id": "7c5d561c-142e-49b7-bf54-34a8da84a4ea",
   "metadata": {},
   "source": [
    "# Script Contents:"
   ]
  },
  {
   "cell_type": "markdown",
   "id": "409b04ce-7f3a-4a64-91aa-44e74aee4a8f",
   "metadata": {},
   "source": [
    "#### 1. PII Data (Pesonally Identifiable Information)"
   ]
  },
  {
   "cell_type": "markdown",
   "id": "fd4a2350-0272-4b11-9db8-fb35aecd6ccf",
   "metadata": {},
   "source": [
    "#### 2. Geographical Segmentation"
   ]
  },
  {
   "cell_type": "markdown",
   "id": "b3010d71-bbf4-4509-a74c-a8f1fc0cfea0",
   "metadata": {},
   "source": [
    "#### 3. Identifying Low-active Customers"
   ]
  },
  {
   "cell_type": "markdown",
   "id": "088d97b8-ff59-4a1a-9fc5-fe9e7528ccd3",
   "metadata": {},
   "source": [
    "#### 4. Customer Profiling"
   ]
  },
  {
   "cell_type": "markdown",
   "id": "a3397b08-5482-4a30-bd84-dbbf172aa226",
   "metadata": {},
   "source": [
    "#### 5. Aggregate MAX, MEAN, & MIN of Customer Profiles"
   ]
  },
  {
   "cell_type": "markdown",
   "id": "bc0002d2-4337-4eb4-9fbc-bd4238dc59cf",
   "metadata": {},
   "source": [
    "#### 6. Compare Customer Profiles with Regiond & Departments"
   ]
  },
  {
   "cell_type": "markdown",
   "id": "be1360db-d62b-4703-be0c-38fe85f52c60",
   "metadata": {},
   "source": [
    "#### 7. Additional Analysis"
   ]
  },
  {
   "cell_type": "code",
   "execution_count": 89,
   "id": "1b0e7e61-3458-4fc6-b751-d60cab9f1d59",
   "metadata": {},
   "outputs": [],
   "source": [
    "# Import libraries\n",
    "\n",
    "import pandas as pd\n",
    "import numpy as np\n",
    "import os\n",
    "import matplotlib.pyplot as plt\n",
    "import seaborn as sns\n",
    "import scipy"
   ]
  },
  {
   "cell_type": "code",
   "execution_count": 90,
   "id": "c7c50f9e-9626-424a-91df-4c0b7e3443aa",
   "metadata": {},
   "outputs": [],
   "source": [
    "# Import dataset\n",
    "\n",
    "path = r'C:\\Users\\X1\\Instacart Basket Analysis Master'\n",
    "df = pd.read_pickle(os.path.join(path,'02 Data', 'Prepared Data', 'orders_products_customer_merged.pkl'))"
   ]
  },
  {
   "cell_type": "code",
   "execution_count": 91,
   "id": "556a3e9e-c0df-4d29-874b-55e63540cff4",
   "metadata": {},
   "outputs": [
    {
     "name": "stdout",
     "output_type": "stream",
     "text": [
      "<class 'pandas.core.frame.DataFrame'>\n",
      "RangeIndex: 32434212 entries, 0 to 32434211\n",
      "Data columns (total 32 columns):\n",
      " #   Column                  Dtype   \n",
      "---  ------                  -----   \n",
      " 0   user_id                 object  \n",
      " 1   first_name              object  \n",
      " 2   last_name               object  \n",
      " 3   gender                  object  \n",
      " 4   state                   object  \n",
      " 5   age                     int64   \n",
      " 6   date_joined             object  \n",
      " 7   children                int64   \n",
      " 8   fam_status              object  \n",
      " 9   income                  int64   \n",
      " 10  order_id                int64   \n",
      " 11  order_number            int64   \n",
      " 12  orders_day_of_week      int64   \n",
      " 13  order_hour_of_day       int64   \n",
      " 14  days_since_prior_order  float64 \n",
      " 15  product_id              int64   \n",
      " 16  add_to_cart_order       int64   \n",
      " 17  reordered               int64   \n",
      " 18  product_name            object  \n",
      " 19  aisle_id                int64   \n",
      " 20  department_id           int64   \n",
      " 21  prices                  float64 \n",
      " 22  price_range_loc         object  \n",
      " 23  busiest_days            object  \n",
      " 24  busiest_period_of_day   object  \n",
      " 25  max_order               int64   \n",
      " 26  loyalty_flag            object  \n",
      " 27  mean_price_spent        float64 \n",
      " 28  spending_flag           object  \n",
      " 29  median_days             float64 \n",
      " 30  frequent_customer_flag  object  \n",
      " 31  merge_indicator         category\n",
      "dtypes: category(1), float64(4), int64(13), object(14)\n",
      "memory usage: 7.5+ GB\n"
     ]
    }
   ],
   "source": [
    "df.info()"
   ]
  },
  {
   "cell_type": "code",
   "execution_count": 92,
   "id": "0032450a-5bc1-4eb7-993d-f74a10c1626f",
   "metadata": {},
   "outputs": [
    {
     "data": {
      "text/html": [
       "<div>\n",
       "<style scoped>\n",
       "    .dataframe tbody tr th:only-of-type {\n",
       "        vertical-align: middle;\n",
       "    }\n",
       "\n",
       "    .dataframe tbody tr th {\n",
       "        vertical-align: top;\n",
       "    }\n",
       "\n",
       "    .dataframe thead th {\n",
       "        text-align: right;\n",
       "    }\n",
       "</style>\n",
       "<table border=\"1\" class=\"dataframe\">\n",
       "  <thead>\n",
       "    <tr style=\"text-align: right;\">\n",
       "      <th></th>\n",
       "      <th>user_id</th>\n",
       "      <th>first_name</th>\n",
       "      <th>last_name</th>\n",
       "      <th>gender</th>\n",
       "      <th>state</th>\n",
       "      <th>age</th>\n",
       "      <th>date_joined</th>\n",
       "      <th>children</th>\n",
       "      <th>fam_status</th>\n",
       "      <th>income</th>\n",
       "      <th>...</th>\n",
       "      <th>price_range_loc</th>\n",
       "      <th>busiest_days</th>\n",
       "      <th>busiest_period_of_day</th>\n",
       "      <th>max_order</th>\n",
       "      <th>loyalty_flag</th>\n",
       "      <th>mean_price_spent</th>\n",
       "      <th>spending_flag</th>\n",
       "      <th>median_days</th>\n",
       "      <th>frequent_customer_flag</th>\n",
       "      <th>merge_indicator</th>\n",
       "    </tr>\n",
       "  </thead>\n",
       "  <tbody>\n",
       "    <tr>\n",
       "      <th>0</th>\n",
       "      <td>26711</td>\n",
       "      <td>Deborah</td>\n",
       "      <td>Esquivel</td>\n",
       "      <td>Female</td>\n",
       "      <td>Missouri</td>\n",
       "      <td>48</td>\n",
       "      <td>1/1/2017</td>\n",
       "      <td>3</td>\n",
       "      <td>married</td>\n",
       "      <td>165665</td>\n",
       "      <td>...</td>\n",
       "      <td>Mid-range product</td>\n",
       "      <td>Busiest days</td>\n",
       "      <td>Most orders</td>\n",
       "      <td>8</td>\n",
       "      <td>New customer</td>\n",
       "      <td>7.988889</td>\n",
       "      <td>Low spender</td>\n",
       "      <td>19.0</td>\n",
       "      <td>Regular customer</td>\n",
       "      <td>both</td>\n",
       "    </tr>\n",
       "    <tr>\n",
       "      <th>1</th>\n",
       "      <td>26711</td>\n",
       "      <td>Deborah</td>\n",
       "      <td>Esquivel</td>\n",
       "      <td>Female</td>\n",
       "      <td>Missouri</td>\n",
       "      <td>48</td>\n",
       "      <td>1/1/2017</td>\n",
       "      <td>3</td>\n",
       "      <td>married</td>\n",
       "      <td>165665</td>\n",
       "      <td>...</td>\n",
       "      <td>Mid-range product</td>\n",
       "      <td>Regularly busy</td>\n",
       "      <td>Most orders</td>\n",
       "      <td>8</td>\n",
       "      <td>New customer</td>\n",
       "      <td>7.988889</td>\n",
       "      <td>Low spender</td>\n",
       "      <td>19.0</td>\n",
       "      <td>Regular customer</td>\n",
       "      <td>both</td>\n",
       "    </tr>\n",
       "    <tr>\n",
       "      <th>2</th>\n",
       "      <td>26711</td>\n",
       "      <td>Deborah</td>\n",
       "      <td>Esquivel</td>\n",
       "      <td>Female</td>\n",
       "      <td>Missouri</td>\n",
       "      <td>48</td>\n",
       "      <td>1/1/2017</td>\n",
       "      <td>3</td>\n",
       "      <td>married</td>\n",
       "      <td>165665</td>\n",
       "      <td>...</td>\n",
       "      <td>Mid-range product</td>\n",
       "      <td>Busiest days</td>\n",
       "      <td>Most orders</td>\n",
       "      <td>8</td>\n",
       "      <td>New customer</td>\n",
       "      <td>7.988889</td>\n",
       "      <td>Low spender</td>\n",
       "      <td>19.0</td>\n",
       "      <td>Regular customer</td>\n",
       "      <td>both</td>\n",
       "    </tr>\n",
       "    <tr>\n",
       "      <th>3</th>\n",
       "      <td>26711</td>\n",
       "      <td>Deborah</td>\n",
       "      <td>Esquivel</td>\n",
       "      <td>Female</td>\n",
       "      <td>Missouri</td>\n",
       "      <td>48</td>\n",
       "      <td>1/1/2017</td>\n",
       "      <td>3</td>\n",
       "      <td>married</td>\n",
       "      <td>165665</td>\n",
       "      <td>...</td>\n",
       "      <td>Mid-range product</td>\n",
       "      <td>Regularly busy</td>\n",
       "      <td>Most orders</td>\n",
       "      <td>8</td>\n",
       "      <td>New customer</td>\n",
       "      <td>7.988889</td>\n",
       "      <td>Low spender</td>\n",
       "      <td>19.0</td>\n",
       "      <td>Regular customer</td>\n",
       "      <td>both</td>\n",
       "    </tr>\n",
       "    <tr>\n",
       "      <th>4</th>\n",
       "      <td>26711</td>\n",
       "      <td>Deborah</td>\n",
       "      <td>Esquivel</td>\n",
       "      <td>Female</td>\n",
       "      <td>Missouri</td>\n",
       "      <td>48</td>\n",
       "      <td>1/1/2017</td>\n",
       "      <td>3</td>\n",
       "      <td>married</td>\n",
       "      <td>165665</td>\n",
       "      <td>...</td>\n",
       "      <td>Mid-range product</td>\n",
       "      <td>Slowest days</td>\n",
       "      <td>Most orders</td>\n",
       "      <td>8</td>\n",
       "      <td>New customer</td>\n",
       "      <td>7.988889</td>\n",
       "      <td>Low spender</td>\n",
       "      <td>19.0</td>\n",
       "      <td>Regular customer</td>\n",
       "      <td>both</td>\n",
       "    </tr>\n",
       "  </tbody>\n",
       "</table>\n",
       "<p>5 rows × 32 columns</p>\n",
       "</div>"
      ],
      "text/plain": [
       "  user_id first_name last_name  gender     state  age date_joined  children  \\\n",
       "0   26711    Deborah  Esquivel  Female  Missouri   48    1/1/2017         3   \n",
       "1   26711    Deborah  Esquivel  Female  Missouri   48    1/1/2017         3   \n",
       "2   26711    Deborah  Esquivel  Female  Missouri   48    1/1/2017         3   \n",
       "3   26711    Deborah  Esquivel  Female  Missouri   48    1/1/2017         3   \n",
       "4   26711    Deborah  Esquivel  Female  Missouri   48    1/1/2017         3   \n",
       "\n",
       "  fam_status  income  ...    price_range_loc    busiest_days  \\\n",
       "0    married  165665  ...  Mid-range product    Busiest days   \n",
       "1    married  165665  ...  Mid-range product  Regularly busy   \n",
       "2    married  165665  ...  Mid-range product    Busiest days   \n",
       "3    married  165665  ...  Mid-range product  Regularly busy   \n",
       "4    married  165665  ...  Mid-range product    Slowest days   \n",
       "\n",
       "   busiest_period_of_day  max_order  loyalty_flag  mean_price_spent  \\\n",
       "0            Most orders          8  New customer          7.988889   \n",
       "1            Most orders          8  New customer          7.988889   \n",
       "2            Most orders          8  New customer          7.988889   \n",
       "3            Most orders          8  New customer          7.988889   \n",
       "4            Most orders          8  New customer          7.988889   \n",
       "\n",
       "   spending_flag  median_days frequent_customer_flag  merge_indicator  \n",
       "0    Low spender         19.0       Regular customer             both  \n",
       "1    Low spender         19.0       Regular customer             both  \n",
       "2    Low spender         19.0       Regular customer             both  \n",
       "3    Low spender         19.0       Regular customer             both  \n",
       "4    Low spender         19.0       Regular customer             both  \n",
       "\n",
       "[5 rows x 32 columns]"
      ]
     },
     "execution_count": 92,
     "metadata": {},
     "output_type": "execute_result"
    }
   ],
   "source": [
    "df.head()"
   ]
  },
  {
   "cell_type": "markdown",
   "id": "5151e786-56fa-4ae2-b6d1-1e4e1bfd90c0",
   "metadata": {},
   "source": [
    "# 1. Consider any security implications that might exist for this new data."
   ]
  },
  {
   "cell_type": "markdown",
   "id": "34ea843f-c4c6-492a-b4cc-4b04a1a3d7a9",
   "metadata": {},
   "source": [
    "##### - The Instacart Data Set and Data Dictionary used were from Kaggle “The Instacart Online Grocery Shopping Dataset 2017”, Accessed from www.instacart.com/datasets/grocery-shopping-201 on March 2024."
   ]
  },
  {
   "cell_type": "markdown",
   "id": "d9214528-91b5-4510-8dce-60ba40f1c6e4",
   "metadata": {},
   "source": [
    "##### - The Customers Data Set, which contains users' names, age, income, etc., were created by CareerFoundry for learning purposes only.  If our analysis is used publicly, customer names can be replaced by using the user ID instead for privacy."
   ]
  },
  {
   "cell_type": "markdown",
   "id": "5ac57011-2b6c-40e4-aa93-8a36689ac286",
   "metadata": {},
   "source": [
    "# 2. The Instacart officers are interested in comparing customer behavior in different geographic areas. Create a regional segmentation of the data. "
   ]
  },
  {
   "cell_type": "markdown",
   "id": "aaae3d9f-868e-4fc7-a1bc-9c57e9fd589d",
   "metadata": {},
   "source": [
    "#### Northeast Region"
   ]
  },
  {
   "cell_type": "code",
   "execution_count": 93,
   "id": "0cbed44c-ed04-4f88-aa45-8debefbac81c",
   "metadata": {},
   "outputs": [],
   "source": [
    "# Create new 'region' column\n",
    "\n",
    "northeast = ['Maine','New Hampshire','Vermont','Massachusetts','Rhode Island','Connecticut','New York','Pennsylvania','New Jersey']"
   ]
  },
  {
   "cell_type": "code",
   "execution_count": 94,
   "id": "c0c33671-ec18-4eed-9bf0-8b47542939c5",
   "metadata": {},
   "outputs": [],
   "source": [
    "# Use loc to create region\n",
    "\n",
    "df.loc[df['state'].isin(northeast),'regions']= 'Northeast' "
   ]
  },
  {
   "cell_type": "markdown",
   "id": "acb34aa1-389b-4a80-a3bb-50d2f4b5355b",
   "metadata": {},
   "source": [
    "#### Midwest Region"
   ]
  },
  {
   "cell_type": "code",
   "execution_count": 95,
   "id": "26e3d6a4-2c16-4995-892c-56cefa0dfcde",
   "metadata": {},
   "outputs": [],
   "source": [
    "# Create new 'region' column\n",
    "\n",
    "midwest = ['Wisconsin','Michigan','Illinois','Indiana','Ohio','North Dakota','South Dakota','Nebraska','Kansas','Minnesota','Iowa','Missouri']"
   ]
  },
  {
   "cell_type": "code",
   "execution_count": 96,
   "id": "4e6271f6-6027-4d93-9dd9-231dc89510e3",
   "metadata": {},
   "outputs": [],
   "source": [
    "# Use loc to create region\n",
    "\n",
    "df.loc[df['state'].isin(midwest),'regions']= 'Midwest' "
   ]
  },
  {
   "cell_type": "markdown",
   "id": "cb0f7d36-20db-48f6-8d81-ebbc32566034",
   "metadata": {},
   "source": [
    "#### South Region"
   ]
  },
  {
   "cell_type": "code",
   "execution_count": 97,
   "id": "8cd80871-00ea-4248-97fa-0bc043b0289e",
   "metadata": {},
   "outputs": [],
   "source": [
    "# Create new 'region' column\n",
    "\n",
    "south = ['Delaware','Maryland','District of Columbia','Virginia','West Virginia','North Carolina','South Carolina','Georgia','Florida','Kentucky','Tennessee','Mississippi','Alabama','Oklahoma','Texas','Arkansas','Louisiana']"
   ]
  },
  {
   "cell_type": "code",
   "execution_count": 98,
   "id": "0227638a-b086-4d69-9404-2fcdead3f175",
   "metadata": {},
   "outputs": [],
   "source": [
    "# Use loc to create region\n",
    "\n",
    "df.loc[df['state'].isin(south),'regions']= 'South' "
   ]
  },
  {
   "cell_type": "markdown",
   "id": "363e4643-2886-432a-a31f-39b8ef1a2e8e",
   "metadata": {},
   "source": [
    "#### West Region"
   ]
  },
  {
   "cell_type": "code",
   "execution_count": 99,
   "id": "3a056449-60fb-4d95-957c-8a4975fabd21",
   "metadata": {},
   "outputs": [],
   "source": [
    "# Create new 'region' column\n",
    "\n",
    "west = ['Idaho','Montana','Wyoming','Nevada','Utah','Colorado','Arizona','New Mexico','Alaska','Washington','Oregon','California','Hawaii']"
   ]
  },
  {
   "cell_type": "code",
   "execution_count": 100,
   "id": "35d96daa-d0bc-4779-b1c0-311817876faf",
   "metadata": {},
   "outputs": [],
   "source": [
    "# Use loc to create region\n",
    "\n",
    "df.loc[df['state'].isin(west),'regions']= 'West' "
   ]
  },
  {
   "cell_type": "code",
   "execution_count": 101,
   "id": "011ed164-dfdd-4c84-83e4-dd3c993abbfd",
   "metadata": {},
   "outputs": [
    {
     "data": {
      "text/plain": [
       "regions\n",
       "South        10801610\n",
       "West          8300445\n",
       "Midwest       7603810\n",
       "Northeast     5728347\n",
       "Name: count, dtype: int64"
      ]
     },
     "execution_count": 101,
     "metadata": {},
     "output_type": "execute_result"
    }
   ],
   "source": [
    "# Frequency check\n",
    "\n",
    "df['regions'].value_counts(dropna = False)"
   ]
  },
  {
   "cell_type": "code",
   "execution_count": 102,
   "id": "4f9e1090-d7ff-458c-9f95-de3f995ac016",
   "metadata": {
    "scrolled": true
   },
   "outputs": [
    {
     "data": {
      "text/html": [
       "<div>\n",
       "<style scoped>\n",
       "    .dataframe tbody tr th:only-of-type {\n",
       "        vertical-align: middle;\n",
       "    }\n",
       "\n",
       "    .dataframe tbody tr th {\n",
       "        vertical-align: top;\n",
       "    }\n",
       "\n",
       "    .dataframe thead th {\n",
       "        text-align: right;\n",
       "    }\n",
       "</style>\n",
       "<table border=\"1\" class=\"dataframe\">\n",
       "  <thead>\n",
       "    <tr style=\"text-align: right;\">\n",
       "      <th></th>\n",
       "      <th>regions</th>\n",
       "      <th>state</th>\n",
       "    </tr>\n",
       "  </thead>\n",
       "  <tbody>\n",
       "    <tr>\n",
       "      <th>32434192</th>\n",
       "      <td>West</td>\n",
       "      <td>California</td>\n",
       "    </tr>\n",
       "    <tr>\n",
       "      <th>32434193</th>\n",
       "      <td>West</td>\n",
       "      <td>California</td>\n",
       "    </tr>\n",
       "    <tr>\n",
       "      <th>32434194</th>\n",
       "      <td>West</td>\n",
       "      <td>California</td>\n",
       "    </tr>\n",
       "    <tr>\n",
       "      <th>32434195</th>\n",
       "      <td>West</td>\n",
       "      <td>California</td>\n",
       "    </tr>\n",
       "    <tr>\n",
       "      <th>32434196</th>\n",
       "      <td>West</td>\n",
       "      <td>California</td>\n",
       "    </tr>\n",
       "    <tr>\n",
       "      <th>32434197</th>\n",
       "      <td>Northeast</td>\n",
       "      <td>New York</td>\n",
       "    </tr>\n",
       "    <tr>\n",
       "      <th>32434198</th>\n",
       "      <td>Northeast</td>\n",
       "      <td>New York</td>\n",
       "    </tr>\n",
       "    <tr>\n",
       "      <th>32434199</th>\n",
       "      <td>Northeast</td>\n",
       "      <td>New York</td>\n",
       "    </tr>\n",
       "    <tr>\n",
       "      <th>32434200</th>\n",
       "      <td>Northeast</td>\n",
       "      <td>New York</td>\n",
       "    </tr>\n",
       "    <tr>\n",
       "      <th>32434201</th>\n",
       "      <td>Northeast</td>\n",
       "      <td>New York</td>\n",
       "    </tr>\n",
       "    <tr>\n",
       "      <th>32434202</th>\n",
       "      <td>Northeast</td>\n",
       "      <td>New York</td>\n",
       "    </tr>\n",
       "    <tr>\n",
       "      <th>32434203</th>\n",
       "      <td>Northeast</td>\n",
       "      <td>New York</td>\n",
       "    </tr>\n",
       "    <tr>\n",
       "      <th>32434204</th>\n",
       "      <td>Northeast</td>\n",
       "      <td>New York</td>\n",
       "    </tr>\n",
       "    <tr>\n",
       "      <th>32434205</th>\n",
       "      <td>Northeast</td>\n",
       "      <td>New York</td>\n",
       "    </tr>\n",
       "    <tr>\n",
       "      <th>32434206</th>\n",
       "      <td>Northeast</td>\n",
       "      <td>New York</td>\n",
       "    </tr>\n",
       "    <tr>\n",
       "      <th>32434207</th>\n",
       "      <td>Northeast</td>\n",
       "      <td>New York</td>\n",
       "    </tr>\n",
       "    <tr>\n",
       "      <th>32434208</th>\n",
       "      <td>Northeast</td>\n",
       "      <td>New York</td>\n",
       "    </tr>\n",
       "    <tr>\n",
       "      <th>32434209</th>\n",
       "      <td>Northeast</td>\n",
       "      <td>New York</td>\n",
       "    </tr>\n",
       "    <tr>\n",
       "      <th>32434210</th>\n",
       "      <td>Northeast</td>\n",
       "      <td>New York</td>\n",
       "    </tr>\n",
       "    <tr>\n",
       "      <th>32434211</th>\n",
       "      <td>Northeast</td>\n",
       "      <td>New York</td>\n",
       "    </tr>\n",
       "  </tbody>\n",
       "</table>\n",
       "</div>"
      ],
      "text/plain": [
       "            regions       state\n",
       "32434192       West  California\n",
       "32434193       West  California\n",
       "32434194       West  California\n",
       "32434195       West  California\n",
       "32434196       West  California\n",
       "32434197  Northeast    New York\n",
       "32434198  Northeast    New York\n",
       "32434199  Northeast    New York\n",
       "32434200  Northeast    New York\n",
       "32434201  Northeast    New York\n",
       "32434202  Northeast    New York\n",
       "32434203  Northeast    New York\n",
       "32434204  Northeast    New York\n",
       "32434205  Northeast    New York\n",
       "32434206  Northeast    New York\n",
       "32434207  Northeast    New York\n",
       "32434208  Northeast    New York\n",
       "32434209  Northeast    New York\n",
       "32434210  Northeast    New York\n",
       "32434211  Northeast    New York"
      ]
     },
     "execution_count": 102,
     "metadata": {},
     "output_type": "execute_result"
    }
   ],
   "source": [
    "# Check multiple columns\n",
    "\n",
    "df[['regions', 'state']].tail(20)"
   ]
  },
  {
   "cell_type": "markdown",
   "id": "b46955c5-28c5-4b63-adfe-e92fd35df65d",
   "metadata": {},
   "source": [
    "## Determine spending habits between regions."
   ]
  },
  {
   "cell_type": "code",
   "execution_count": 103,
   "id": "6987bc9a-f5c1-4b96-9be2-45fd7ee13299",
   "metadata": {},
   "outputs": [
    {
     "data": {
      "text/html": [
       "<div>\n",
       "<style scoped>\n",
       "    .dataframe tbody tr th:only-of-type {\n",
       "        vertical-align: middle;\n",
       "    }\n",
       "\n",
       "    .dataframe tbody tr th {\n",
       "        vertical-align: top;\n",
       "    }\n",
       "\n",
       "    .dataframe thead th {\n",
       "        text-align: right;\n",
       "    }\n",
       "</style>\n",
       "<table border=\"1\" class=\"dataframe\">\n",
       "  <thead>\n",
       "    <tr style=\"text-align: right;\">\n",
       "      <th>spending_flag</th>\n",
       "      <th>High spender</th>\n",
       "      <th>Low spender</th>\n",
       "    </tr>\n",
       "    <tr>\n",
       "      <th>regions</th>\n",
       "      <th></th>\n",
       "      <th></th>\n",
       "    </tr>\n",
       "  </thead>\n",
       "  <tbody>\n",
       "    <tr>\n",
       "      <th>Midwest</th>\n",
       "      <td>156129</td>\n",
       "      <td>7447681</td>\n",
       "    </tr>\n",
       "    <tr>\n",
       "      <th>Northeast</th>\n",
       "      <td>108343</td>\n",
       "      <td>5620004</td>\n",
       "    </tr>\n",
       "    <tr>\n",
       "      <th>South</th>\n",
       "      <td>210182</td>\n",
       "      <td>10591428</td>\n",
       "    </tr>\n",
       "    <tr>\n",
       "      <th>West</th>\n",
       "      <td>160807</td>\n",
       "      <td>8139638</td>\n",
       "    </tr>\n",
       "  </tbody>\n",
       "</table>\n",
       "</div>"
      ],
      "text/plain": [
       "spending_flag  High spender  Low spender\n",
       "regions                                 \n",
       "Midwest              156129      7447681\n",
       "Northeast            108343      5620004\n",
       "South                210182     10591428\n",
       "West                 160807      8139638"
      ]
     },
     "execution_count": 103,
     "metadata": {},
     "output_type": "execute_result"
    }
   ],
   "source": [
    "# Cross check region and spending_flag\n",
    "\n",
    "spending_by_region = pd.crosstab(df['regions'], df['spending_flag'], dropna = False)\n",
    "spending_by_region"
   ]
  },
  {
   "cell_type": "markdown",
   "id": "3159107a-58fc-42b0-9d39-51867113562a",
   "metadata": {},
   "source": [
    "#### - The South Region spends more than any other region. Considering the amount of High/Low Spenders, there are about 50 times more Low Spenders than High Spenders."
   ]
  },
  {
   "cell_type": "markdown",
   "id": "ffa8ecec-41b5-4c56-9031-cb5f12033299",
   "metadata": {},
   "source": [
    "# 3. The Instacart CFO isn’t interested in customers who don’t generate much revenue for the app. Create an exclusion flag for low-activity customers (customers with less than 5 orders) and exclude them from the data."
   ]
  },
  {
   "cell_type": "code",
   "execution_count": 104,
   "id": "894b2da8-b685-4897-a80a-d543bb7099f9",
   "metadata": {},
   "outputs": [],
   "source": [
    "# Define minium number of orders\n",
    "\n",
    "min_order = 5\n",
    "\n",
    "# Create flag \n",
    "\n",
    "df['Exclude'] = df['max_order'] < min_order"
   ]
  },
  {
   "cell_type": "code",
   "execution_count": 105,
   "id": "a068d8eb-8760-4526-b15b-f5572f698aa9",
   "metadata": {},
   "outputs": [],
   "source": [
    "# Filter out low-activity customers\n",
    "\n",
    "active_customers = df.loc[df['Exclude'] == False]"
   ]
  },
  {
   "cell_type": "code",
   "execution_count": 106,
   "id": "870b94ed-4f05-4d92-8a80-89b86f89b67a",
   "metadata": {},
   "outputs": [
    {
     "data": {
      "text/html": [
       "<div>\n",
       "<style scoped>\n",
       "    .dataframe tbody tr th:only-of-type {\n",
       "        vertical-align: middle;\n",
       "    }\n",
       "\n",
       "    .dataframe tbody tr th {\n",
       "        vertical-align: top;\n",
       "    }\n",
       "\n",
       "    .dataframe thead th {\n",
       "        text-align: right;\n",
       "    }\n",
       "</style>\n",
       "<table border=\"1\" class=\"dataframe\">\n",
       "  <thead>\n",
       "    <tr style=\"text-align: right;\">\n",
       "      <th></th>\n",
       "      <th>user_id</th>\n",
       "      <th>first_name</th>\n",
       "      <th>last_name</th>\n",
       "      <th>gender</th>\n",
       "      <th>state</th>\n",
       "      <th>age</th>\n",
       "      <th>date_joined</th>\n",
       "      <th>children</th>\n",
       "      <th>fam_status</th>\n",
       "      <th>income</th>\n",
       "      <th>...</th>\n",
       "      <th>busiest_period_of_day</th>\n",
       "      <th>max_order</th>\n",
       "      <th>loyalty_flag</th>\n",
       "      <th>mean_price_spent</th>\n",
       "      <th>spending_flag</th>\n",
       "      <th>median_days</th>\n",
       "      <th>frequent_customer_flag</th>\n",
       "      <th>merge_indicator</th>\n",
       "      <th>regions</th>\n",
       "      <th>Exclude</th>\n",
       "    </tr>\n",
       "  </thead>\n",
       "  <tbody>\n",
       "    <tr>\n",
       "      <th>32434166</th>\n",
       "      <td>135902</td>\n",
       "      <td>Doris</td>\n",
       "      <td>Richmond</td>\n",
       "      <td>Female</td>\n",
       "      <td>Missouri</td>\n",
       "      <td>66</td>\n",
       "      <td>4/1/2020</td>\n",
       "      <td>2</td>\n",
       "      <td>married</td>\n",
       "      <td>53374</td>\n",
       "      <td>...</td>\n",
       "      <td>Average orders</td>\n",
       "      <td>8</td>\n",
       "      <td>New customer</td>\n",
       "      <td>6.960345</td>\n",
       "      <td>Low spender</td>\n",
       "      <td>8.0</td>\n",
       "      <td>Frequent customer</td>\n",
       "      <td>both</td>\n",
       "      <td>Midwest</td>\n",
       "      <td>False</td>\n",
       "    </tr>\n",
       "    <tr>\n",
       "      <th>32434167</th>\n",
       "      <td>135902</td>\n",
       "      <td>Doris</td>\n",
       "      <td>Richmond</td>\n",
       "      <td>Female</td>\n",
       "      <td>Missouri</td>\n",
       "      <td>66</td>\n",
       "      <td>4/1/2020</td>\n",
       "      <td>2</td>\n",
       "      <td>married</td>\n",
       "      <td>53374</td>\n",
       "      <td>...</td>\n",
       "      <td>Most orders</td>\n",
       "      <td>8</td>\n",
       "      <td>New customer</td>\n",
       "      <td>6.960345</td>\n",
       "      <td>Low spender</td>\n",
       "      <td>8.0</td>\n",
       "      <td>Frequent customer</td>\n",
       "      <td>both</td>\n",
       "      <td>Midwest</td>\n",
       "      <td>False</td>\n",
       "    </tr>\n",
       "    <tr>\n",
       "      <th>32434168</th>\n",
       "      <td>135902</td>\n",
       "      <td>Doris</td>\n",
       "      <td>Richmond</td>\n",
       "      <td>Female</td>\n",
       "      <td>Missouri</td>\n",
       "      <td>66</td>\n",
       "      <td>4/1/2020</td>\n",
       "      <td>2</td>\n",
       "      <td>married</td>\n",
       "      <td>53374</td>\n",
       "      <td>...</td>\n",
       "      <td>Most orders</td>\n",
       "      <td>8</td>\n",
       "      <td>New customer</td>\n",
       "      <td>6.960345</td>\n",
       "      <td>Low spender</td>\n",
       "      <td>8.0</td>\n",
       "      <td>Frequent customer</td>\n",
       "      <td>both</td>\n",
       "      <td>Midwest</td>\n",
       "      <td>False</td>\n",
       "    </tr>\n",
       "    <tr>\n",
       "      <th>32434169</th>\n",
       "      <td>135902</td>\n",
       "      <td>Doris</td>\n",
       "      <td>Richmond</td>\n",
       "      <td>Female</td>\n",
       "      <td>Missouri</td>\n",
       "      <td>66</td>\n",
       "      <td>4/1/2020</td>\n",
       "      <td>2</td>\n",
       "      <td>married</td>\n",
       "      <td>53374</td>\n",
       "      <td>...</td>\n",
       "      <td>Average orders</td>\n",
       "      <td>8</td>\n",
       "      <td>New customer</td>\n",
       "      <td>6.960345</td>\n",
       "      <td>Low spender</td>\n",
       "      <td>8.0</td>\n",
       "      <td>Frequent customer</td>\n",
       "      <td>both</td>\n",
       "      <td>Midwest</td>\n",
       "      <td>False</td>\n",
       "    </tr>\n",
       "    <tr>\n",
       "      <th>32434170</th>\n",
       "      <td>135902</td>\n",
       "      <td>Doris</td>\n",
       "      <td>Richmond</td>\n",
       "      <td>Female</td>\n",
       "      <td>Missouri</td>\n",
       "      <td>66</td>\n",
       "      <td>4/1/2020</td>\n",
       "      <td>2</td>\n",
       "      <td>married</td>\n",
       "      <td>53374</td>\n",
       "      <td>...</td>\n",
       "      <td>Most orders</td>\n",
       "      <td>8</td>\n",
       "      <td>New customer</td>\n",
       "      <td>6.960345</td>\n",
       "      <td>Low spender</td>\n",
       "      <td>8.0</td>\n",
       "      <td>Frequent customer</td>\n",
       "      <td>both</td>\n",
       "      <td>Midwest</td>\n",
       "      <td>False</td>\n",
       "    </tr>\n",
       "  </tbody>\n",
       "</table>\n",
       "<p>5 rows × 34 columns</p>\n",
       "</div>"
      ],
      "text/plain": [
       "         user_id first_name last_name  gender     state  age date_joined  \\\n",
       "32434166  135902      Doris  Richmond  Female  Missouri   66    4/1/2020   \n",
       "32434167  135902      Doris  Richmond  Female  Missouri   66    4/1/2020   \n",
       "32434168  135902      Doris  Richmond  Female  Missouri   66    4/1/2020   \n",
       "32434169  135902      Doris  Richmond  Female  Missouri   66    4/1/2020   \n",
       "32434170  135902      Doris  Richmond  Female  Missouri   66    4/1/2020   \n",
       "\n",
       "          children fam_status  income  ...  busiest_period_of_day  max_order  \\\n",
       "32434166         2    married   53374  ...         Average orders          8   \n",
       "32434167         2    married   53374  ...            Most orders          8   \n",
       "32434168         2    married   53374  ...            Most orders          8   \n",
       "32434169         2    married   53374  ...         Average orders          8   \n",
       "32434170         2    married   53374  ...            Most orders          8   \n",
       "\n",
       "          loyalty_flag  mean_price_spent  spending_flag  median_days  \\\n",
       "32434166  New customer          6.960345    Low spender          8.0   \n",
       "32434167  New customer          6.960345    Low spender          8.0   \n",
       "32434168  New customer          6.960345    Low spender          8.0   \n",
       "32434169  New customer          6.960345    Low spender          8.0   \n",
       "32434170  New customer          6.960345    Low spender          8.0   \n",
       "\n",
       "          frequent_customer_flag  merge_indicator  regions  Exclude  \n",
       "32434166       Frequent customer             both  Midwest    False  \n",
       "32434167       Frequent customer             both  Midwest    False  \n",
       "32434168       Frequent customer             both  Midwest    False  \n",
       "32434169       Frequent customer             both  Midwest    False  \n",
       "32434170       Frequent customer             both  Midwest    False  \n",
       "\n",
       "[5 rows x 34 columns]"
      ]
     },
     "execution_count": 106,
     "metadata": {},
     "output_type": "execute_result"
    }
   ],
   "source": [
    "active_customers.tail()"
   ]
  },
  {
   "cell_type": "code",
   "execution_count": 107,
   "id": "bb905cad-55a2-45c8-976a-7f4e6b88d810",
   "metadata": {},
   "outputs": [
    {
     "data": {
      "text/plain": [
       "(30992664, 34)"
      ]
     },
     "execution_count": 107,
     "metadata": {},
     "output_type": "execute_result"
    }
   ],
   "source": [
    "active_customers.shape"
   ]
  },
  {
   "cell_type": "code",
   "execution_count": 108,
   "id": "031764a3-b1a9-440f-8b3f-170a05e83691",
   "metadata": {},
   "outputs": [
    {
     "data": {
      "text/plain": [
       "(32434212, 34)"
      ]
     },
     "execution_count": 108,
     "metadata": {},
     "output_type": "execute_result"
    }
   ],
   "source": [
    "df.shape"
   ]
  },
  {
   "cell_type": "code",
   "execution_count": 109,
   "id": "039ba763-eeac-4065-94bb-db144be8fa61",
   "metadata": {},
   "outputs": [
    {
     "data": {
      "text/plain": [
       "1441548"
      ]
     },
     "execution_count": 109,
     "metadata": {},
     "output_type": "execute_result"
    }
   ],
   "source": [
    "32434212-30992664"
   ]
  },
  {
   "cell_type": "code",
   "execution_count": 110,
   "id": "61bd16ac-7e61-418e-8008-a28050d0c6c7",
   "metadata": {},
   "outputs": [
    {
     "data": {
      "text/plain": [
       "count    3.099266e+07\n",
       "mean     3.442563e+01\n",
       "std      2.489426e+01\n",
       "min      5.000000e+00\n",
       "25%      1.400000e+01\n",
       "50%      2.800000e+01\n",
       "75%      4.800000e+01\n",
       "max      9.900000e+01\n",
       "Name: max_order, dtype: float64"
      ]
     },
     "execution_count": 110,
     "metadata": {},
     "output_type": "execute_result"
    }
   ],
   "source": [
    "active_customers['max_order'].describe()"
   ]
  },
  {
   "cell_type": "markdown",
   "id": "3eb37c99-7334-4ea9-8ccf-67396a787ff2",
   "metadata": {},
   "source": [
    "#### - With the minimum orders being 5, this dataframe excludes customers who only made 4 or less orders total.  A total of 1,441,548 observations were removed."
   ]
  },
  {
   "cell_type": "code",
   "execution_count": 111,
   "id": "05381276-cf02-4656-a33a-ce33023994f1",
   "metadata": {},
   "outputs": [],
   "source": [
    "# Export active_customers df\n",
    "\n",
    "active_customers.to_pickle(os.path.join(path, '02 Data', 'Prepared Data', 'active_customers.pkl'))"
   ]
  },
  {
   "cell_type": "markdown",
   "id": "7d111dd8-51df-42fa-b044-4dc663a3cb06",
   "metadata": {},
   "source": [
    "# 4. The marketing and business strategy units at Instacart want to create more-relevant marketing strategies for different products and are, thus, curious about customer profiling in their database. Create a profiling variable based on age, income, certain goods in the “department_id” column, and number of dependents."
   ]
  },
  {
   "cell_type": "markdown",
   "id": "afeac8a1-8599-44a3-8603-5f24f91b0da2",
   "metadata": {},
   "source": [
    "## Age Profile"
   ]
  },
  {
   "cell_type": "code",
   "execution_count": 112,
   "id": "5806bb40-2df7-4872-b9cd-02551cb11fbc",
   "metadata": {},
   "outputs": [],
   "source": [
    "# Define age groups of users, create flag\n",
    "# Assuming users must legally be 18 or older to create an Instacart account:\n",
    "\n",
    "df.loc[df['age'] < 21, 'age_group'] = 'Young Adult (<21)'"
   ]
  },
  {
   "cell_type": "code",
   "execution_count": 113,
   "id": "b5401e53-0332-4fc1-b384-b37a710130b5",
   "metadata": {},
   "outputs": [],
   "source": [
    "df.loc[(df['age'] >= 21) & (df['age'] < 40), 'age_group'] = 'Adult (21-39)' "
   ]
  },
  {
   "cell_type": "code",
   "execution_count": 114,
   "id": "92d129c0-2d0c-4e41-b73c-d05e830764c1",
   "metadata": {},
   "outputs": [],
   "source": [
    "df.loc[(df['age'] >= 40) & (df['age'] < 65), 'age_group'] = 'Middle Aged (40-64)' "
   ]
  },
  {
   "cell_type": "code",
   "execution_count": 115,
   "id": "1aa86a82-1a9c-4532-9014-e5b00146a09d",
   "metadata": {},
   "outputs": [],
   "source": [
    "df.loc[df['age'] >= 65, 'age_group'] = 'Senior (65+)'"
   ]
  },
  {
   "cell_type": "code",
   "execution_count": 116,
   "id": "984ed4c8-a4c1-4ada-beaf-e90ee7bda7d4",
   "metadata": {},
   "outputs": [
    {
     "data": {
      "text/plain": [
       "age_group\n",
       "Middle Aged (40-64)    12677418\n",
       "Adult (21-39)           9649793\n",
       "Senior (65+)            8582637\n",
       "Young Adult (<21)       1524364\n",
       "Name: count, dtype: int64"
      ]
     },
     "execution_count": 116,
     "metadata": {},
     "output_type": "execute_result"
    }
   ],
   "source": [
    "# Frequency Check\n",
    "\n",
    "df['age_group'].value_counts(dropna = False)"
   ]
  },
  {
   "cell_type": "code",
   "execution_count": 117,
   "id": "8dce3d72-3ab2-4e09-87af-3c66d0d0ae98",
   "metadata": {},
   "outputs": [
    {
     "data": {
      "text/plain": [
       "age_group\n",
       "Adult (21-39)          29.751896\n",
       "Middle Aged (40-64)    39.086561\n",
       "Senior (65+)           26.461679\n",
       "Young Adult (<21)       4.699864\n",
       "Name: proportion, dtype: float64"
      ]
     },
     "execution_count": 117,
     "metadata": {},
     "output_type": "execute_result"
    }
   ],
   "source": [
    "# Convert age_group into percentage\n",
    "\n",
    "age_group_percent = (df['age_group'].value_counts(normalize=True) * 100).sort_index()\n",
    "age_group_percent"
   ]
  },
  {
   "cell_type": "code",
   "execution_count": 118,
   "id": "dedaf47e-5ac7-465a-8caa-9f19b3596295",
   "metadata": {},
   "outputs": [
    {
     "data": {
      "image/png": "[encoded data removed]",
      "text/plain": [
       "<Figure size 640x480 with 1 Axes>"
      ]
     },
     "metadata": {},
     "output_type": "display_data"
    }
   ],
   "source": [
    "# Pie Chart of Age Groups\n",
    "\n",
    "age_group_pie = plt.pie(age_group_percent, labels = age_group_percent.index, autopct='%1.1f%%', colors=['cornflowerblue', 'orange', 'tan', 'violet'])\n",
    "plt.title('Ratio of Users by Age')\n",
    "\n",
    "# Export viz\n",
    "\n",
    "output_path = os.path.join(path, '04 Analysis','Visualizations', 'pie_age_group.png')\n",
    "plt.savefig(output_path)"
   ]
  },
  {
   "cell_type": "markdown",
   "id": "fae694d7-b525-494c-bf07-8016aa076ce7",
   "metadata": {},
   "source": [
    "## Income Profile"
   ]
  },
  {
   "cell_type": "code",
   "execution_count": 119,
   "id": "1c86df08-e7d4-4d82-ace7-d0af48aa7b01",
   "metadata": {},
   "outputs": [],
   "source": [
    "# Define income status\n",
    "\n",
    "df.loc[df['income'] <= 50000, 'income_profile'] = 'Low Income'"
   ]
  },
  {
   "cell_type": "code",
   "execution_count": 120,
   "id": "8ee2a8be-5c62-4ae5-b173-decbfb448d36",
   "metadata": {},
   "outputs": [],
   "source": [
    "df.loc[(df['income'] > 50000) & (df['income'] <= 99999), 'income_profile'] = 'Middle Income'"
   ]
  },
  {
   "cell_type": "code",
   "execution_count": 121,
   "id": "309d2124-c34d-4a6b-8b55-0656862c7740",
   "metadata": {},
   "outputs": [],
   "source": [
    "df.loc[df['income'] >= 100000, 'income_profile'] = 'High Income'"
   ]
  },
  {
   "cell_type": "code",
   "execution_count": 122,
   "id": "c0be1fab-34f7-4552-aca8-a266deb34568",
   "metadata": {},
   "outputs": [
    {
     "data": {
      "text/plain": [
       "income_profile\n",
       "High Income      14827337\n",
       "Middle Income    14009004\n",
       "Low Income        3597871\n",
       "Name: count, dtype: int64"
      ]
     },
     "execution_count": 122,
     "metadata": {},
     "output_type": "execute_result"
    }
   ],
   "source": [
    "# Frequency Check\n",
    "\n",
    "df['income_profile'].value_counts(dropna = False)"
   ]
  },
  {
   "cell_type": "code",
   "execution_count": 123,
   "id": "4fe27b9e-277d-471a-b860-d025e8e43a56",
   "metadata": {},
   "outputs": [
    {
     "data": {
      "text/html": [
       "<div>\n",
       "<style scoped>\n",
       "    .dataframe tbody tr th:only-of-type {\n",
       "        vertical-align: middle;\n",
       "    }\n",
       "\n",
       "    .dataframe tbody tr th {\n",
       "        vertical-align: top;\n",
       "    }\n",
       "\n",
       "    .dataframe thead th {\n",
       "        text-align: right;\n",
       "    }\n",
       "</style>\n",
       "<table border=\"1\" class=\"dataframe\">\n",
       "  <thead>\n",
       "    <tr style=\"text-align: right;\">\n",
       "      <th>fam_status</th>\n",
       "      <th>divorced/widowed</th>\n",
       "      <th>living with parents and siblings</th>\n",
       "      <th>married</th>\n",
       "      <th>single</th>\n",
       "    </tr>\n",
       "    <tr>\n",
       "      <th>income_profile</th>\n",
       "      <th></th>\n",
       "      <th></th>\n",
       "      <th></th>\n",
       "      <th></th>\n",
       "    </tr>\n",
       "  </thead>\n",
       "  <tbody>\n",
       "    <tr>\n",
       "      <th>High Income</th>\n",
       "      <td>1929691</td>\n",
       "      <td>49024</td>\n",
       "      <td>11054836</td>\n",
       "      <td>1793786</td>\n",
       "    </tr>\n",
       "    <tr>\n",
       "      <th>Low Income</th>\n",
       "      <td>226906</td>\n",
       "      <td>235753</td>\n",
       "      <td>2457229</td>\n",
       "      <td>677983</td>\n",
       "    </tr>\n",
       "    <tr>\n",
       "      <th>Middle Income</th>\n",
       "      <td>617831</td>\n",
       "      <td>1267325</td>\n",
       "      <td>9264848</td>\n",
       "      <td>2859000</td>\n",
       "    </tr>\n",
       "  </tbody>\n",
       "</table>\n",
       "</div>"
      ],
      "text/plain": [
       "fam_status      divorced/widowed  living with parents and siblings   married  \\\n",
       "income_profile                                                                 \n",
       "High Income              1929691                             49024  11054836   \n",
       "Low Income                226906                            235753   2457229   \n",
       "Middle Income             617831                           1267325   9264848   \n",
       "\n",
       "fam_status       single  \n",
       "income_profile           \n",
       "High Income     1793786  \n",
       "Low Income       677983  \n",
       "Middle Income   2859000  "
      ]
     },
     "execution_count": 123,
     "metadata": {},
     "output_type": "execute_result"
    }
   ],
   "source": [
    "# Frequency of family status & income\n",
    "\n",
    "family_income_status = pd.crosstab(df['income_profile'], df['fam_status'], dropna = False)\n",
    "family_income_status"
   ]
  },
  {
   "cell_type": "code",
   "execution_count": 124,
   "id": "358e3537-8840-43f2-8c4c-74b48a8c16bf",
   "metadata": {},
   "outputs": [
    {
     "data": {
      "image/png": "[encoded data removed]",
      "text/plain": [
       "<Figure size 640x480 with 1 Axes>"
      ]
     },
     "metadata": {},
     "output_type": "display_data"
    }
   ],
   "source": [
    "# Get value counts for bar chart\n",
    "bar_fam_income = df.groupby(['income_profile', 'fam_status']).size().unstack(fill_value=0)\n",
    "\n",
    "# Create grouped bar chart\n",
    "\n",
    "fig, ax = plt.subplots()\n",
    "bar_fam_income.plot(kind='bar', ax=ax)\n",
    "\n",
    "# Customize\n",
    "\n",
    "ax.set_xlabel('')\n",
    "ax.set_ylabel('Count')\n",
    "ax.set_title('Income & Family Status Grouped Bar Chart')\n",
    "\n",
    "# Export viz\n",
    "\n",
    "output_path = os.path.join(path, '04 Analysis','Visualizations', 'bar_fam_income.png')\n",
    "plt.savefig(output_path)"
   ]
  },
  {
   "cell_type": "markdown",
   "id": "7e89e5f0-8273-488e-92a2-d6e352616ffd",
   "metadata": {},
   "source": [
    "#### - Our largest demographic consists of users who are married who are considered high income."
   ]
  },
  {
   "cell_type": "markdown",
   "id": "62e2eeb6-05a4-4a9e-8017-ab7b7a72d3d9",
   "metadata": {},
   "source": [
    "## Department Profile"
   ]
  },
  {
   "cell_type": "code",
   "execution_count": 125,
   "id": "3d7af11e-2cd2-436c-bd03-dfc9446c1e39",
   "metadata": {},
   "outputs": [],
   "source": [
    "# Convert department_id into their respective names\n",
    "\n",
    "department_mapping = {\n",
    "    1: \"frozen\",\n",
    "    2: \"other\",\n",
    "    3: \"bakery\",\n",
    "    4: \"produce\",\n",
    "    5: \"alcohol\",\n",
    "    6: \"international\",\n",
    "    7: \"beverages\",\n",
    "    8: \"pets\",\n",
    "    9: \"dry goods pasta\",\n",
    "    10: \"bulk\",\n",
    "    11: \"personal care\",\n",
    "    12: \"meat seafood\",\n",
    "    13: \"pantry\",\n",
    "    14: \"breakfast\",\n",
    "    15: \"canned goods\",\n",
    "    16: \"dairy eggs\",\n",
    "    17: \"household\",\n",
    "    18: \"babies\",\n",
    "    19: \"snacks\",\n",
    "    20: \"deli\",\n",
    "}\n",
    "\n",
    "# Create new column\n",
    "\n",
    "df['department_name'] = df['department_id'].map(department_mapping).fillna('missing')"
   ]
  },
  {
   "cell_type": "code",
   "execution_count": 126,
   "id": "9cbba1d7-a848-4ba1-ae98-a63a8fd46658",
   "metadata": {},
   "outputs": [
    {
     "data": {
      "image/png": "[encoded data removed]",
      "text/plain": [
       "<Figure size 640x480 with 1 Axes>"
      ]
     },
     "metadata": {},
     "output_type": "display_data"
    }
   ],
   "source": [
    "# Create bar chart \n",
    "\n",
    "bar_dept_orders = df['department_name'].value_counts().plot.bar()\n",
    "plt.title('Deperments by Order Counts ')\n",
    "plt.xlabel('')\n",
    "plt.ylabel('Orders Count')\n",
    "\n",
    "# Export bar chart\n",
    "\n",
    "bar_dept_orders.figure.savefig(os.path.join(path, '04 Analysis','Visualizations', 'bar_dept_orders.png'))"
   ]
  },
  {
   "cell_type": "markdown",
   "id": "c8c43af0-44f4-4272-abc1-ce36d8292f78",
   "metadata": {},
   "source": [
    "#### - The top 5 most ordered departments are Produce, Dairy Eggs, Snacks, Beverages, Frozen.\n",
    "#### - The bottom 5 are Bulk, Other, Missing, Pets, Alcohol.\n",
    "#### - I suggest advertising Snacks combined with Bulk for users with families.  Similarly, Beverages and Alcohol should be paired together."
   ]
  },
  {
   "cell_type": "markdown",
   "id": "7293cf8a-2fb8-4b2b-bcbf-0d636831e1cf",
   "metadata": {},
   "source": [
    "## Number of Dependants Profile"
   ]
  },
  {
   "cell_type": "code",
   "execution_count": 127,
   "id": "48c9e83b-d07f-4c75-922d-63fef6c21c6a",
   "metadata": {},
   "outputs": [
    {
     "data": {
      "text/plain": [
       "children\n",
       "3    8142318\n",
       "0    8105197\n",
       "2    8098387\n",
       "1    8088310\n",
       "Name: count, dtype: int64"
      ]
     },
     "execution_count": 127,
     "metadata": {},
     "output_type": "execute_result"
    }
   ],
   "source": [
    "# Frequency check of dependents\n",
    "\n",
    "df['children'].value_counts(dropna = False)"
   ]
  },
  {
   "cell_type": "code",
   "execution_count": 128,
   "id": "dda44e99-3048-4b01-9a24-b189987ae4bf",
   "metadata": {},
   "outputs": [
    {
     "data": {
      "text/html": [
       "<div>\n",
       "<style scoped>\n",
       "    .dataframe tbody tr th:only-of-type {\n",
       "        vertical-align: middle;\n",
       "    }\n",
       "\n",
       "    .dataframe tbody tr th {\n",
       "        vertical-align: top;\n",
       "    }\n",
       "\n",
       "    .dataframe thead th {\n",
       "        text-align: right;\n",
       "    }\n",
       "</style>\n",
       "<table border=\"1\" class=\"dataframe\">\n",
       "  <thead>\n",
       "    <tr style=\"text-align: right;\">\n",
       "      <th>children</th>\n",
       "      <th>0</th>\n",
       "      <th>1</th>\n",
       "      <th>2</th>\n",
       "      <th>3</th>\n",
       "    </tr>\n",
       "    <tr>\n",
       "      <th>age_group</th>\n",
       "      <th></th>\n",
       "      <th></th>\n",
       "      <th></th>\n",
       "      <th></th>\n",
       "    </tr>\n",
       "  </thead>\n",
       "  <tbody>\n",
       "    <tr>\n",
       "      <th>Adult (21-39)</th>\n",
       "      <td>2422159</td>\n",
       "      <td>2389076</td>\n",
       "      <td>2423176</td>\n",
       "      <td>2415382</td>\n",
       "    </tr>\n",
       "    <tr>\n",
       "      <th>Middle Aged (40-64)</th>\n",
       "      <td>3198758</td>\n",
       "      <td>3175350</td>\n",
       "      <td>3111403</td>\n",
       "      <td>3191907</td>\n",
       "    </tr>\n",
       "    <tr>\n",
       "      <th>Senior (65+)</th>\n",
       "      <td>2122132</td>\n",
       "      <td>2125541</td>\n",
       "      <td>2189041</td>\n",
       "      <td>2145923</td>\n",
       "    </tr>\n",
       "    <tr>\n",
       "      <th>Young Adult (&lt;21)</th>\n",
       "      <td>362148</td>\n",
       "      <td>398343</td>\n",
       "      <td>374767</td>\n",
       "      <td>389106</td>\n",
       "    </tr>\n",
       "  </tbody>\n",
       "</table>\n",
       "</div>"
      ],
      "text/plain": [
       "children                   0        1        2        3\n",
       "age_group                                              \n",
       "Adult (21-39)        2422159  2389076  2423176  2415382\n",
       "Middle Aged (40-64)  3198758  3175350  3111403  3191907\n",
       "Senior (65+)         2122132  2125541  2189041  2145923\n",
       "Young Adult (<21)     362148   398343   374767   389106"
      ]
     },
     "execution_count": 128,
     "metadata": {},
     "output_type": "execute_result"
    }
   ],
   "source": [
    "# Cross tab of age_group & dependents\n",
    "\n",
    "age_dependents = pd.crosstab(df['age_group'], df['children'], dropna = False)\n",
    "age_dependents"
   ]
  },
  {
   "cell_type": "code",
   "execution_count": 129,
   "id": "1884fdec-9b8a-4846-b242-05df6d1fdca3",
   "metadata": {},
   "outputs": [
    {
     "data": {
      "image/png": "[encoded data removed]",
      "text/plain": [
       "<Figure size 640x480 with 1 Axes>"
      ]
     },
     "metadata": {},
     "output_type": "display_data"
    }
   ],
   "source": [
    "# Get value counts for bar chart\n",
    "bar_age_dependents = df.groupby(['age_group', 'children']).size().unstack(fill_value=0)\n",
    "\n",
    "# Create grouped bar chart\n",
    "\n",
    "fig, ax = plt.subplots()\n",
    "bar_age_dependents.plot(kind='bar', ax=ax)\n",
    "\n",
    "# Customize\n",
    "\n",
    "ax.set_xlabel('')\n",
    "ax.set_ylabel('Count')\n",
    "ax.set_title('Age Group & Number of Dependents Grouped Bar Chart')\n",
    "\n",
    "# Export viz\n",
    "\n",
    "output_path = os.path.join(path, '04 Analysis','Visualizations', 'bar_age_dependents.png')\n",
    "plt.savefig(output_path)"
   ]
  },
  {
   "cell_type": "markdown",
   "id": "9e9f4da0-0bed-4514-9961-513a1d04f8e4",
   "metadata": {},
   "source": [
    "#### - Interestingly, all age groups have similar sized families whether they have 3 children or zero.  Again, the Adult age group make up majority of users.  We should promote items that cater to their family needs, like produce and snacks."
   ]
  },
  {
   "cell_type": "markdown",
   "id": "b5391213-2f44-4a6e-be08-fd9df397d9ec",
   "metadata": {},
   "source": [
    "## Analyze orders_day_of_week"
   ]
  },
  {
   "cell_type": "code",
   "execution_count": 130,
   "id": "cca0de82-a053-425b-976c-7d086387a795",
   "metadata": {},
   "outputs": [],
   "source": [
    "# Convert orders_day_of_week into their respective names\n",
    "\n",
    "days_of_week_mapping = {\n",
    "    0: \"Saturday\",\n",
    "    1: \"Sunday\",\n",
    "    2: \"Monday\",\n",
    "    3: \"Tuesday\",\n",
    "    4: \"Wednesday\",\n",
    "    5: \"Thursday\",\n",
    "    6: \"Friday\",\n",
    "}\n",
    "\n",
    "# Create new column\n",
    "\n",
    "df['orders_day_of_week2'] = df['orders_day_of_week'].map(days_of_week_mapping).fillna('missing')"
   ]
  },
  {
   "cell_type": "code",
   "execution_count": 131,
   "id": "9395c457-8c75-4655-986f-df778953ea02",
   "metadata": {},
   "outputs": [
    {
     "data": {
      "image/png": "[encoded data removed]",
      "text/plain": [
       "<Figure size 640x480 with 1 Axes>"
      ]
     },
     "metadata": {},
     "output_type": "display_data"
    }
   ],
   "source": [
    "# Create bar chart using ordrs_day_of_week column\n",
    "\n",
    "bar_orders_dow = df['orders_day_of_week2'].value_counts().plot.bar(color =['purple', 'red', 'pink', 'orange', 'lightblue', 'green', 'blue'])\n",
    "plt.title('Orders Made Throughout the Week ')\n",
    "plt.xlabel('')\n",
    "plt.ylabel('Orders Count')\n",
    "plt.tight_layout()\n",
    "\n",
    "# Export bar chart\n",
    "\n",
    "bar_orders_dow.figure.savefig(os.path.join(path, '04 Analysis','Visualizations', 'bar_orders_day_of_week.png'))"
   ]
  },
  {
   "cell_type": "markdown",
   "id": "975e659f-5b7c-4b5c-ac20-fffb4caaee18",
   "metadata": {},
   "source": [
    "#### - This bar graph shows which days of the week has most and least amount of orders on Instacart. Majority of orders are placed at the beginning and the end of the week."
   ]
  },
  {
   "cell_type": "markdown",
   "id": "025c8c0a-4ee7-42b0-91ec-a4e03159dbe1",
   "metadata": {},
   "source": [
    "## Analyze order_hour_of_day"
   ]
  },
  {
   "cell_type": "code",
   "execution_count": 132,
   "id": "6c95c2cf-9355-4bef-ae2f-38965e379844",
   "metadata": {},
   "outputs": [
    {
     "data": {
      "image/png": "[encoded data removed]",
      "text/plain": [
       "<Figure size 640x480 with 1 Axes>"
      ]
     },
     "metadata": {},
     "output_type": "display_data"
    }
   ],
   "source": [
    "# Create histogram of 'order_hour_of_day'\n",
    "\n",
    "hist_order = df['order_hour_of_day'].plot.hist(bins = 25)\n",
    "plt.title('Orders Made Throughout the Day ')\n",
    "plt.xlabel('Hour')\n",
    "plt.ylabel('Frequency')\n",
    "plt.tight_layout()\n",
    "\n",
    "# Export histogram\n",
    "\n",
    "hist_order.figure.savefig(os.path.join(path, '04 Analysis','Visualizations', 'hist_order.png'))"
   ]
  },
  {
   "cell_type": "code",
   "execution_count": 133,
   "id": "4dfed124-3b6e-4d46-8e55-c88f90f9b327",
   "metadata": {
    "scrolled": true
   },
   "outputs": [
    {
     "data": {
      "text/plain": [
       "order_hour_of_day\n",
       "10    2764390\n",
       "11    2738585\n",
       "14    2691563\n",
       "15    2664522\n",
       "13    2663272\n",
       "12    2620800\n",
       "16    2537469\n",
       "9     2456661\n",
       "17    2089452\n",
       "8     1719952\n",
       "18    1637922\n",
       "19    1259382\n",
       "20     977017\n",
       "7      891928\n",
       "21     796362\n",
       "22     634737\n",
       "23     402612\n",
       "6      290770\n",
       "0      218942\n",
       "1      115786\n",
       "5       88057\n",
       "2       69431\n",
       "4       53283\n",
       "3       51317\n",
       "Name: count, dtype: int64"
      ]
     },
     "execution_count": 133,
     "metadata": {},
     "output_type": "execute_result"
    }
   ],
   "source": [
    "# Check for missing values\n",
    "\n",
    "df['order_hour_of_day'].value_counts(dropna = False)"
   ]
  },
  {
   "cell_type": "markdown",
   "id": "62a6635e-94d0-4fda-ad90-c8847c487fc3",
   "metadata": {},
   "source": [
    "#### - The peak time of orders are made starting around 10 AM and slowly decrease as the day goes on. However, it is odd that there is a blank space around 11-12 PM, implying that no orders are being placed at all.  Since there is no missing data, it'd be best to check with the stakeholders to further investigate."
   ]
  },
  {
   "cell_type": "markdown",
   "id": "ffe0ec9d-dad0-44fc-b20f-4caa4876cd56",
   "metadata": {},
   "source": [
    "# 5. Aggregate the max, mean, and min variables on a customer-profile level for usage frequency and expenditure."
   ]
  },
  {
   "cell_type": "code",
   "execution_count": 134,
   "id": "820cc1f5-cb1f-42c0-942f-4f9ed2dd7882",
   "metadata": {},
   "outputs": [
    {
     "data": {
      "text/html": [
       "<div>\n",
       "<style scoped>\n",
       "    .dataframe tbody tr th:only-of-type {\n",
       "        vertical-align: middle;\n",
       "    }\n",
       "\n",
       "    .dataframe tbody tr th {\n",
       "        vertical-align: top;\n",
       "    }\n",
       "\n",
       "    .dataframe thead tr th {\n",
       "        text-align: left;\n",
       "    }\n",
       "\n",
       "    .dataframe thead tr:last-of-type th {\n",
       "        text-align: right;\n",
       "    }\n",
       "</style>\n",
       "<table border=\"1\" class=\"dataframe\">\n",
       "  <thead>\n",
       "    <tr>\n",
       "      <th></th>\n",
       "      <th colspan=\"4\" halign=\"left\">days_since_prior_order</th>\n",
       "    </tr>\n",
       "    <tr>\n",
       "      <th></th>\n",
       "      <th>mean</th>\n",
       "      <th>min</th>\n",
       "      <th>std</th>\n",
       "      <th>max</th>\n",
       "    </tr>\n",
       "    <tr>\n",
       "      <th>age_group</th>\n",
       "      <th></th>\n",
       "      <th></th>\n",
       "      <th></th>\n",
       "      <th></th>\n",
       "    </tr>\n",
       "  </thead>\n",
       "  <tbody>\n",
       "    <tr>\n",
       "      <th>Adult (21-39)</th>\n",
       "      <td>11.098938</td>\n",
       "      <td>0.0</td>\n",
       "      <td>8.752963</td>\n",
       "      <td>30.0</td>\n",
       "    </tr>\n",
       "    <tr>\n",
       "      <th>Middle Aged (40-64)</th>\n",
       "      <td>11.117828</td>\n",
       "      <td>0.0</td>\n",
       "      <td>8.797748</td>\n",
       "      <td>30.0</td>\n",
       "    </tr>\n",
       "    <tr>\n",
       "      <th>Senior (65+)</th>\n",
       "      <td>11.079006</td>\n",
       "      <td>0.0</td>\n",
       "      <td>8.771372</td>\n",
       "      <td>30.0</td>\n",
       "    </tr>\n",
       "    <tr>\n",
       "      <th>Young Adult (&lt;21)</th>\n",
       "      <td>11.165224</td>\n",
       "      <td>0.0</td>\n",
       "      <td>8.828628</td>\n",
       "      <td>30.0</td>\n",
       "    </tr>\n",
       "  </tbody>\n",
       "</table>\n",
       "</div>"
      ],
      "text/plain": [
       "                    days_since_prior_order                     \n",
       "                                      mean  min       std   max\n",
       "age_group                                                      \n",
       "Adult (21-39)                    11.098938  0.0  8.752963  30.0\n",
       "Middle Aged (40-64)              11.117828  0.0  8.797748  30.0\n",
       "Senior (65+)                     11.079006  0.0  8.771372  30.0\n",
       "Young Adult (<21)                11.165224  0.0  8.828628  30.0"
      ]
     },
     "execution_count": 134,
     "metadata": {},
     "output_type": "execute_result"
    }
   ],
   "source": [
    "# Check frequency of age_group & days_since_prior_order\n",
    "\n",
    "usage_freq1 = df.groupby('age_group').agg(({'days_since_prior_order': ['mean', 'min', 'std', 'max']}))\n",
    "usage_freq1"
   ]
  },
  {
   "cell_type": "code",
   "execution_count": 135,
   "id": "6209fded-aa3e-44e5-b6c7-2e6666e5890d",
   "metadata": {},
   "outputs": [
    {
     "data": {
      "text/plain": [
       "25.0"
      ]
     },
     "execution_count": 135,
     "metadata": {},
     "output_type": "execute_result"
    }
   ],
   "source": [
    "# Update prices column, we learned from the previous exercise that some items are priced at 99,999 dollars\n",
    "# Change values over 100 dollars into Missing Values\n",
    "# Replace outliers with NaNs\n",
    "\n",
    "df.loc[df['prices'] >100, 'prices'] = np.nan\n",
    "\n",
    "# Check if change was successful\n",
    "\n",
    "df['prices'].max()"
   ]
  },
  {
   "cell_type": "code",
   "execution_count": 136,
   "id": "5bac014c-7649-4b8f-afd0-019f3e3ed71a",
   "metadata": {},
   "outputs": [
    {
     "data": {
      "text/html": [
       "<div>\n",
       "<style scoped>\n",
       "    .dataframe tbody tr th:only-of-type {\n",
       "        vertical-align: middle;\n",
       "    }\n",
       "\n",
       "    .dataframe tbody tr th {\n",
       "        vertical-align: top;\n",
       "    }\n",
       "\n",
       "    .dataframe thead tr th {\n",
       "        text-align: left;\n",
       "    }\n",
       "\n",
       "    .dataframe thead tr:last-of-type th {\n",
       "        text-align: right;\n",
       "    }\n",
       "</style>\n",
       "<table border=\"1\" class=\"dataframe\">\n",
       "  <thead>\n",
       "    <tr>\n",
       "      <th></th>\n",
       "      <th colspan=\"4\" halign=\"left\">prices</th>\n",
       "    </tr>\n",
       "    <tr>\n",
       "      <th></th>\n",
       "      <th>mean</th>\n",
       "      <th>min</th>\n",
       "      <th>std</th>\n",
       "      <th>max</th>\n",
       "    </tr>\n",
       "    <tr>\n",
       "      <th>income_profile</th>\n",
       "      <th></th>\n",
       "      <th></th>\n",
       "      <th></th>\n",
       "      <th></th>\n",
       "    </tr>\n",
       "  </thead>\n",
       "  <tbody>\n",
       "    <tr>\n",
       "      <th>High Income</th>\n",
       "      <td>7.963629</td>\n",
       "      <td>1.0</td>\n",
       "      <td>4.259566</td>\n",
       "      <td>25.0</td>\n",
       "    </tr>\n",
       "    <tr>\n",
       "      <th>Low Income</th>\n",
       "      <td>6.702746</td>\n",
       "      <td>1.0</td>\n",
       "      <td>3.987252</td>\n",
       "      <td>25.0</td>\n",
       "    </tr>\n",
       "    <tr>\n",
       "      <th>Middle Income</th>\n",
       "      <td>7.898730</td>\n",
       "      <td>1.0</td>\n",
       "      <td>4.248563</td>\n",
       "      <td>25.0</td>\n",
       "    </tr>\n",
       "  </tbody>\n",
       "</table>\n",
       "</div>"
      ],
      "text/plain": [
       "                  prices                     \n",
       "                    mean  min       std   max\n",
       "income_profile                               \n",
       "High Income     7.963629  1.0  4.259566  25.0\n",
       "Low Income      6.702746  1.0  3.987252  25.0\n",
       "Middle Income   7.898730  1.0  4.248563  25.0"
      ]
     },
     "execution_count": 136,
     "metadata": {},
     "output_type": "execute_result"
    }
   ],
   "source": [
    "# Check frequency of income_profile & prices\n",
    "\n",
    "usage_freq2 = df.groupby('income_profile').agg(({'prices': ['mean', 'min', 'std', 'max']}))\n",
    "usage_freq2"
   ]
  },
  {
   "cell_type": "markdown",
   "id": "33c74407-f7d7-4c11-83c5-0f4168eec2ab",
   "metadata": {},
   "source": [
    "# 6. Compare customer profiles with regions and departments. "
   ]
  },
  {
   "cell_type": "code",
   "execution_count": 137,
   "id": "b341835f-23de-4dd0-9103-8b351a2452cf",
   "metadata": {},
   "outputs": [
    {
     "data": {
      "image/png": "[encoded data removed]",
      "text/plain": [
       "<Figure size 640x480 with 1 Axes>"
      ]
     },
     "metadata": {},
     "output_type": "display_data"
    }
   ],
   "source": [
    "# Histogram of 'prices' column\n",
    "\n",
    "hist_prices = df['prices'].plot.hist(bins = 70)\n",
    "plt.title('Distribution of Prices ')\n",
    "plt.xlabel('Prices')\n",
    "plt.ylabel('Frequency')\n",
    "plt.tight_layout()\n",
    "\n",
    "# Export histogram\n",
    "\n",
    "hist_prices.figure.savefig(os.path.join(path, '04 Analysis','Visualizations', 'histogram_prices.png'))"
   ]
  },
  {
   "cell_type": "markdown",
   "id": "b73c1ab9-5902-4405-ab74-3f8c860e161a",
   "metadata": {},
   "source": [
    "#### - This is a histogram of the prices column.  Most products sold are priced between 1 - 15 dollars, while few items are sold around 15 - 25 dollars.  In short, majority of our sales are from items sold at 15 dollars or less."
   ]
  },
  {
   "cell_type": "code",
   "execution_count": 138,
   "id": "31e0b0c1-4474-427e-a32a-cc9c597000b7",
   "metadata": {},
   "outputs": [
    {
     "data": {
      "text/html": [
       "<div>\n",
       "<style scoped>\n",
       "    .dataframe tbody tr th:only-of-type {\n",
       "        vertical-align: middle;\n",
       "    }\n",
       "\n",
       "    .dataframe tbody tr th {\n",
       "        vertical-align: top;\n",
       "    }\n",
       "\n",
       "    .dataframe thead th {\n",
       "        text-align: right;\n",
       "    }\n",
       "</style>\n",
       "<table border=\"1\" class=\"dataframe\">\n",
       "  <thead>\n",
       "    <tr style=\"text-align: right;\">\n",
       "      <th>spending_flag</th>\n",
       "      <th>High spender</th>\n",
       "      <th>Low spender</th>\n",
       "    </tr>\n",
       "    <tr>\n",
       "      <th>regions</th>\n",
       "      <th></th>\n",
       "      <th></th>\n",
       "    </tr>\n",
       "  </thead>\n",
       "  <tbody>\n",
       "    <tr>\n",
       "      <th>Midwest</th>\n",
       "      <td>156129</td>\n",
       "      <td>7447681</td>\n",
       "    </tr>\n",
       "    <tr>\n",
       "      <th>Northeast</th>\n",
       "      <td>108343</td>\n",
       "      <td>5620004</td>\n",
       "    </tr>\n",
       "    <tr>\n",
       "      <th>South</th>\n",
       "      <td>210182</td>\n",
       "      <td>10591428</td>\n",
       "    </tr>\n",
       "    <tr>\n",
       "      <th>West</th>\n",
       "      <td>160807</td>\n",
       "      <td>8139638</td>\n",
       "    </tr>\n",
       "  </tbody>\n",
       "</table>\n",
       "</div>"
      ],
      "text/plain": [
       "spending_flag  High spender  Low spender\n",
       "regions                                 \n",
       "Midwest              156129      7447681\n",
       "Northeast            108343      5620004\n",
       "South                210182     10591428\n",
       "West                 160807      8139638"
      ]
     },
     "execution_count": 138,
     "metadata": {},
     "output_type": "execute_result"
    }
   ],
   "source": [
    "# Cross check region and spending_flag\n",
    "\n",
    "spending_by_region = pd.crosstab(df['regions'], df['spending_flag'], dropna = False)\n",
    "spending_by_region"
   ]
  },
  {
   "cell_type": "code",
   "execution_count": 139,
   "id": "47ac24e7-6d99-4282-8827-259cd88c15c0",
   "metadata": {},
   "outputs": [
    {
     "data": {
      "image/png": "[encoded data removed]",
      "text/plain": [
       "<Figure size 640x480 with 1 Axes>"
      ]
     },
     "metadata": {},
     "output_type": "display_data"
    }
   ],
   "source": [
    "# Create stacked bar chart\n",
    "\n",
    "colors = ['cornflowerblue', 'orange']\n",
    "bar_regions_spender2 = spending_by_region.plot(kind='bar', stacked=True, edgecolor = 'black', color = colors)\n",
    "plt.title('Spending by Region')\n",
    "plt.xlabel('')\n",
    "plt.ylabel('Count')\n",
    "plt.tight_layout()\n",
    "plt.show()\n",
    "\n",
    "# Saving as PNG\n",
    "bar_regions_spender2.figure.savefig(os.path.join(path, '04 Analysis','Visualizations', 'bar_regions_spender2 .png'))"
   ]
  },
  {
   "cell_type": "markdown",
   "id": "45a799e8-b330-4eaf-9ac7-12bf6e6f135a",
   "metadata": {},
   "source": [
    "#### - This chart shows how much each region spends and the difference between high & low spenders.  \n",
    "#### - In a previous exercise, we defined spenders buy finding their total price spent and taking the mean number.\n",
    "#### - High spenders are users with a mean price spent that is greater than or equal to 10.\n",
    "#### - Low spenders are users with a mean price spent that is less than 10.\n",
    "#### - We can conclude that the South Region buys the most on Instacart out of all regions and about 90 percent of users are low spenders."
   ]
  },
  {
   "cell_type": "code",
   "execution_count": 140,
   "id": "64608f33-1893-4939-8556-5f747fb66230",
   "metadata": {},
   "outputs": [
    {
     "data": {
      "image/png": "[encoded data removed]",
      "text/plain": [
       "<Figure size 640x480 with 1 Axes>"
      ]
     },
     "metadata": {},
     "output_type": "display_data"
    }
   ],
   "source": [
    "# Grouping department_name and region\n",
    "\n",
    "dept_region = df.groupby(['department_name', 'regions']).size().unstack()\n",
    "\n",
    "# Sort values large to small\n",
    "dept_region = dept_region.sort_values(by = 'West', ascending = False)\n",
    "\n",
    "# Creating bar chart\n",
    "colors = ['lightblue', 'red', 'yellow','lightgreen']\n",
    "bar_dept_region = dept_region.plot(kind='bar', stacked=True, edgecolor = 'black', color = colors)\n",
    "plt.title('Department Purchases by Region')\n",
    "plt.xlabel('Department')\n",
    "plt.ylabel('Order Count')\n",
    "plt.tight_layout()\n",
    "plt.show()\n",
    "\n",
    "# Saving as PNG\n",
    "bar_dept_region.figure.savefig(os.path.join(path, '04 Analysis','Visualizations', 'bar_dept_region .png'))"
   ]
  },
  {
   "cell_type": "markdown",
   "id": "312eaf91-79a3-4699-b8f2-e6d8764bd441",
   "metadata": {},
   "source": [
    "#### - This stacked bar chart displays what each reagions orders from each department.  As stated earlier, the South is heavily dominant in all departments, followed by the West."
   ]
  },
  {
   "cell_type": "markdown",
   "id": "ee0ff56d-2448-43c8-b417-f0eb803d515b",
   "metadata": {},
   "source": [
    "# 7. Additional Analysis"
   ]
  },
  {
   "cell_type": "code",
   "execution_count": 141,
   "id": "19296f5c-af4f-4618-bdd7-60dde2d92914",
   "metadata": {},
   "outputs": [],
   "source": [
    "# Create new column for simpler price range\n",
    "\n",
    "df.loc[(df['prices']) <= 5, 'prod_price_range'] = '$5 or less'"
   ]
  },
  {
   "cell_type": "code",
   "execution_count": 142,
   "id": "49584e5f-5780-4b45-9451-9973b58cc6d6",
   "metadata": {},
   "outputs": [],
   "source": [
    "df.loc[(df['prices'] > 5) & (df['prices'] <= 10), 'prod_price_range'] = '$6 - $10'"
   ]
  },
  {
   "cell_type": "code",
   "execution_count": 143,
   "id": "47f32d1c-f00f-4d4f-8025-49895a9981ed",
   "metadata": {},
   "outputs": [],
   "source": [
    "df.loc[(df['prices'] > 10) & (df['prices'] <= 15), 'prod_price_range'] = '$11 - $15'"
   ]
  },
  {
   "cell_type": "code",
   "execution_count": 144,
   "id": "2b26a3b5-673e-4d95-b7bc-dc408bff16fb",
   "metadata": {},
   "outputs": [],
   "source": [
    "df.loc[(df['prices']) > 15 , 'prod_price_range'] = '$16 & up'"
   ]
  },
  {
   "cell_type": "code",
   "execution_count": 145,
   "id": "7b718f92-a9b7-404e-ac9d-042627a1eba4",
   "metadata": {},
   "outputs": [
    {
     "data": {
      "text/plain": [
       "prod_price_range\n",
       "$6 - $10      11763581\n",
       "$11 - $15     10126565\n",
       "$5 or less    10126384\n",
       "$16 & up        412555\n",
       "nan               5127\n",
       "Name: count, dtype: int64"
      ]
     },
     "execution_count": 145,
     "metadata": {},
     "output_type": "execute_result"
    }
   ],
   "source": [
    "df['prod_price_range'].value_counts(dropna = False)"
   ]
  },
  {
   "cell_type": "code",
   "execution_count": 146,
   "id": "15c25d98-5db1-4ee4-ab19-0c1f096e5f44",
   "metadata": {},
   "outputs": [
    {
     "data": {
      "text/html": [
       "<div>\n",
       "<style scoped>\n",
       "    .dataframe tbody tr th:only-of-type {\n",
       "        vertical-align: middle;\n",
       "    }\n",
       "\n",
       "    .dataframe tbody tr th {\n",
       "        vertical-align: top;\n",
       "    }\n",
       "\n",
       "    .dataframe thead th {\n",
       "        text-align: right;\n",
       "    }\n",
       "</style>\n",
       "<table border=\"1\" class=\"dataframe\">\n",
       "  <thead>\n",
       "    <tr style=\"text-align: right;\">\n",
       "      <th></th>\n",
       "      <th>product_name</th>\n",
       "      <th>prices</th>\n",
       "      <th>prod_price_range</th>\n",
       "    </tr>\n",
       "  </thead>\n",
       "  <tbody>\n",
       "    <tr>\n",
       "      <th>0</th>\n",
       "      <td>Soda</td>\n",
       "      <td>9.0</td>\n",
       "      <td>$6 - $10</td>\n",
       "    </tr>\n",
       "    <tr>\n",
       "      <th>1</th>\n",
       "      <td>Soda</td>\n",
       "      <td>9.0</td>\n",
       "      <td>$6 - $10</td>\n",
       "    </tr>\n",
       "    <tr>\n",
       "      <th>2</th>\n",
       "      <td>Soda</td>\n",
       "      <td>9.0</td>\n",
       "      <td>$6 - $10</td>\n",
       "    </tr>\n",
       "    <tr>\n",
       "      <th>3</th>\n",
       "      <td>0% Greek Strained Yogurt</td>\n",
       "      <td>12.6</td>\n",
       "      <td>$11 - $15</td>\n",
       "    </tr>\n",
       "    <tr>\n",
       "      <th>4</th>\n",
       "      <td>0% Greek Strained Yogurt</td>\n",
       "      <td>12.6</td>\n",
       "      <td>$11 - $15</td>\n",
       "    </tr>\n",
       "    <tr>\n",
       "      <th>5</th>\n",
       "      <td>0% Greek Strained Yogurt</td>\n",
       "      <td>12.6</td>\n",
       "      <td>$11 - $15</td>\n",
       "    </tr>\n",
       "    <tr>\n",
       "      <th>6</th>\n",
       "      <td>0% Greek Strained Yogurt</td>\n",
       "      <td>12.6</td>\n",
       "      <td>$11 - $15</td>\n",
       "    </tr>\n",
       "    <tr>\n",
       "      <th>7</th>\n",
       "      <td>0% Greek Strained Yogurt</td>\n",
       "      <td>12.6</td>\n",
       "      <td>$11 - $15</td>\n",
       "    </tr>\n",
       "    <tr>\n",
       "      <th>8</th>\n",
       "      <td>0% Greek Strained Yogurt</td>\n",
       "      <td>12.6</td>\n",
       "      <td>$11 - $15</td>\n",
       "    </tr>\n",
       "    <tr>\n",
       "      <th>9</th>\n",
       "      <td>Clementines</td>\n",
       "      <td>4.3</td>\n",
       "      <td>$5 or less</td>\n",
       "    </tr>\n",
       "  </tbody>\n",
       "</table>\n",
       "</div>"
      ],
      "text/plain": [
       "               product_name  prices prod_price_range\n",
       "0                      Soda     9.0         $6 - $10\n",
       "1                      Soda     9.0         $6 - $10\n",
       "2                      Soda     9.0         $6 - $10\n",
       "3  0% Greek Strained Yogurt    12.6        $11 - $15\n",
       "4  0% Greek Strained Yogurt    12.6        $11 - $15\n",
       "5  0% Greek Strained Yogurt    12.6        $11 - $15\n",
       "6  0% Greek Strained Yogurt    12.6        $11 - $15\n",
       "7  0% Greek Strained Yogurt    12.6        $11 - $15\n",
       "8  0% Greek Strained Yogurt    12.6        $11 - $15\n",
       "9               Clementines     4.3       $5 or less"
      ]
     },
     "execution_count": 146,
     "metadata": {},
     "output_type": "execute_result"
    }
   ],
   "source": [
    "# Cross check multiple columns with .head()\n",
    "\n",
    "df[['product_name', 'prices', 'prod_price_range']].head(10)"
   ]
  },
  {
   "cell_type": "code",
   "execution_count": 147,
   "id": "d380041d-a8a0-4dc5-8b47-ee49b13c2d0b",
   "metadata": {},
   "outputs": [
    {
     "data": {
      "text/html": [
       "<div>\n",
       "<style scoped>\n",
       "    .dataframe tbody tr th:only-of-type {\n",
       "        vertical-align: middle;\n",
       "    }\n",
       "\n",
       "    .dataframe tbody tr th {\n",
       "        vertical-align: top;\n",
       "    }\n",
       "\n",
       "    .dataframe thead tr th {\n",
       "        text-align: left;\n",
       "    }\n",
       "\n",
       "    .dataframe thead tr:last-of-type th {\n",
       "        text-align: right;\n",
       "    }\n",
       "</style>\n",
       "<table border=\"1\" class=\"dataframe\">\n",
       "  <thead>\n",
       "    <tr>\n",
       "      <th></th>\n",
       "      <th colspan=\"4\" halign=\"left\">days_since_prior_order</th>\n",
       "    </tr>\n",
       "    <tr>\n",
       "      <th></th>\n",
       "      <th>mean</th>\n",
       "      <th>min</th>\n",
       "      <th>std</th>\n",
       "      <th>max</th>\n",
       "    </tr>\n",
       "    <tr>\n",
       "      <th>loyalty_flag</th>\n",
       "      <th></th>\n",
       "      <th></th>\n",
       "      <th></th>\n",
       "      <th></th>\n",
       "    </tr>\n",
       "  </thead>\n",
       "  <tbody>\n",
       "    <tr>\n",
       "      <th>Loyal customer</th>\n",
       "      <td>6.026927</td>\n",
       "      <td>0.0</td>\n",
       "      <td>4.561078</td>\n",
       "      <td>30.0</td>\n",
       "    </tr>\n",
       "    <tr>\n",
       "      <th>New customer</th>\n",
       "      <td>17.977110</td>\n",
       "      <td>0.0</td>\n",
       "      <td>10.131070</td>\n",
       "      <td>30.0</td>\n",
       "    </tr>\n",
       "    <tr>\n",
       "      <th>Regular customer</th>\n",
       "      <td>12.155304</td>\n",
       "      <td>0.0</td>\n",
       "      <td>8.456092</td>\n",
       "      <td>30.0</td>\n",
       "    </tr>\n",
       "  </tbody>\n",
       "</table>\n",
       "</div>"
      ],
      "text/plain": [
       "                 days_since_prior_order                      \n",
       "                                   mean  min        std   max\n",
       "loyalty_flag                                                 \n",
       "Loyal customer                 6.026927  0.0   4.561078  30.0\n",
       "New customer                  17.977110  0.0  10.131070  30.0\n",
       "Regular customer              12.155304  0.0   8.456092  30.0"
      ]
     },
     "execution_count": 147,
     "metadata": {},
     "output_type": "execute_result"
    }
   ],
   "source": [
    "# Check stats of loyalty_flag & days_since_prior_order\n",
    "\n",
    "usage_freq3 = df.groupby('loyalty_flag').agg(({'days_since_prior_order': ['mean', 'min', 'std', 'max']}))\n",
    "usage_freq3"
   ]
  },
  {
   "cell_type": "code",
   "execution_count": 148,
   "id": "e844a285-1872-46c0-acbc-6a8ca5f6bb1b",
   "metadata": {},
   "outputs": [
    {
     "name": "stderr",
     "output_type": "stream",
     "text": [
      "C:\\Users\\X1\\AppData\\Local\\Temp\\ipykernel_19920\\378763140.py:1: FutureWarning: The provided callable <function sum at 0x000001FD6E8E8540> is currently using SeriesGroupBy.sum. In a future version of pandas, the provided callable will be used directly. To keep current behavior pass the string \"sum\" instead.\n",
      "  df['total_spent'] = df.groupby(['user_id'])['prices'].transform(np.sum)\n"
     ]
    }
   ],
   "source": [
    "df['total_spent'] = df.groupby(['user_id'])['prices'].transform(np.sum)"
   ]
  },
  {
   "cell_type": "code",
   "execution_count": 149,
   "id": "9d85b222-b22f-4a81-bdb0-e301ab7637e4",
   "metadata": {},
   "outputs": [
    {
     "data": {
      "text/html": [
       "<div>\n",
       "<style scoped>\n",
       "    .dataframe tbody tr th:only-of-type {\n",
       "        vertical-align: middle;\n",
       "    }\n",
       "\n",
       "    .dataframe tbody tr th {\n",
       "        vertical-align: top;\n",
       "    }\n",
       "\n",
       "    .dataframe thead th {\n",
       "        text-align: right;\n",
       "    }\n",
       "</style>\n",
       "<table border=\"1\" class=\"dataframe\">\n",
       "  <thead>\n",
       "    <tr style=\"text-align: right;\">\n",
       "      <th></th>\n",
       "      <th>first_name</th>\n",
       "      <th>user_id</th>\n",
       "      <th>total_spent</th>\n",
       "    </tr>\n",
       "  </thead>\n",
       "  <tbody>\n",
       "    <tr>\n",
       "      <th>0</th>\n",
       "      <td>Deborah</td>\n",
       "      <td>26711</td>\n",
       "      <td>143.8</td>\n",
       "    </tr>\n",
       "    <tr>\n",
       "      <th>1</th>\n",
       "      <td>Deborah</td>\n",
       "      <td>26711</td>\n",
       "      <td>143.8</td>\n",
       "    </tr>\n",
       "    <tr>\n",
       "      <th>2</th>\n",
       "      <td>Deborah</td>\n",
       "      <td>26711</td>\n",
       "      <td>143.8</td>\n",
       "    </tr>\n",
       "    <tr>\n",
       "      <th>3</th>\n",
       "      <td>Deborah</td>\n",
       "      <td>26711</td>\n",
       "      <td>143.8</td>\n",
       "    </tr>\n",
       "    <tr>\n",
       "      <th>4</th>\n",
       "      <td>Deborah</td>\n",
       "      <td>26711</td>\n",
       "      <td>143.8</td>\n",
       "    </tr>\n",
       "    <tr>\n",
       "      <th>5</th>\n",
       "      <td>Deborah</td>\n",
       "      <td>26711</td>\n",
       "      <td>143.8</td>\n",
       "    </tr>\n",
       "    <tr>\n",
       "      <th>6</th>\n",
       "      <td>Deborah</td>\n",
       "      <td>26711</td>\n",
       "      <td>143.8</td>\n",
       "    </tr>\n",
       "    <tr>\n",
       "      <th>7</th>\n",
       "      <td>Deborah</td>\n",
       "      <td>26711</td>\n",
       "      <td>143.8</td>\n",
       "    </tr>\n",
       "    <tr>\n",
       "      <th>8</th>\n",
       "      <td>Deborah</td>\n",
       "      <td>26711</td>\n",
       "      <td>143.8</td>\n",
       "    </tr>\n",
       "    <tr>\n",
       "      <th>9</th>\n",
       "      <td>Deborah</td>\n",
       "      <td>26711</td>\n",
       "      <td>143.8</td>\n",
       "    </tr>\n",
       "  </tbody>\n",
       "</table>\n",
       "</div>"
      ],
      "text/plain": [
       "  first_name user_id  total_spent\n",
       "0    Deborah   26711        143.8\n",
       "1    Deborah   26711        143.8\n",
       "2    Deborah   26711        143.8\n",
       "3    Deborah   26711        143.8\n",
       "4    Deborah   26711        143.8\n",
       "5    Deborah   26711        143.8\n",
       "6    Deborah   26711        143.8\n",
       "7    Deborah   26711        143.8\n",
       "8    Deborah   26711        143.8\n",
       "9    Deborah   26711        143.8"
      ]
     },
     "execution_count": 149,
     "metadata": {},
     "output_type": "execute_result"
    }
   ],
   "source": [
    "# Check columns\n",
    "\n",
    "df[['first_name', 'user_id', 'total_spent']].head(10)"
   ]
  },
  {
   "cell_type": "code",
   "execution_count": 150,
   "id": "01c52b77-e050-46aa-b6c3-c0cafaa65cdb",
   "metadata": {},
   "outputs": [
    {
     "data": {
      "text/html": [
       "<div>\n",
       "<style scoped>\n",
       "    .dataframe tbody tr th:only-of-type {\n",
       "        vertical-align: middle;\n",
       "    }\n",
       "\n",
       "    .dataframe tbody tr th {\n",
       "        vertical-align: top;\n",
       "    }\n",
       "\n",
       "    .dataframe thead tr th {\n",
       "        text-align: left;\n",
       "    }\n",
       "\n",
       "    .dataframe thead tr:last-of-type th {\n",
       "        text-align: right;\n",
       "    }\n",
       "</style>\n",
       "<table border=\"1\" class=\"dataframe\">\n",
       "  <thead>\n",
       "    <tr>\n",
       "      <th></th>\n",
       "      <th colspan=\"4\" halign=\"left\">total_spent</th>\n",
       "    </tr>\n",
       "    <tr>\n",
       "      <th></th>\n",
       "      <th>mean</th>\n",
       "      <th>min</th>\n",
       "      <th>std</th>\n",
       "      <th>max</th>\n",
       "    </tr>\n",
       "    <tr>\n",
       "      <th>loyalty_flag</th>\n",
       "      <th></th>\n",
       "      <th></th>\n",
       "      <th></th>\n",
       "      <th></th>\n",
       "    </tr>\n",
       "  </thead>\n",
       "  <tbody>\n",
       "    <tr>\n",
       "      <th>Loyal customer</th>\n",
       "      <td>6162.800522</td>\n",
       "      <td>156.0</td>\n",
       "      <td>3142.506865</td>\n",
       "      <td>26651.1</td>\n",
       "    </tr>\n",
       "    <tr>\n",
       "      <th>New customer</th>\n",
       "      <td>690.924500</td>\n",
       "      <td>3.0</td>\n",
       "      <td>447.178475</td>\n",
       "      <td>3920.4</td>\n",
       "    </tr>\n",
       "    <tr>\n",
       "      <th>Regular customer</th>\n",
       "      <td>2446.791137</td>\n",
       "      <td>15.7</td>\n",
       "      <td>1545.585100</td>\n",
       "      <td>12186.6</td>\n",
       "    </tr>\n",
       "  </tbody>\n",
       "</table>\n",
       "</div>"
      ],
      "text/plain": [
       "                  total_spent                             \n",
       "                         mean    min          std      max\n",
       "loyalty_flag                                              \n",
       "Loyal customer    6162.800522  156.0  3142.506865  26651.1\n",
       "New customer       690.924500    3.0   447.178475   3920.4\n",
       "Regular customer  2446.791137   15.7  1545.585100  12186.6"
      ]
     },
     "execution_count": 150,
     "metadata": {},
     "output_type": "execute_result"
    }
   ],
   "source": [
    "# Analyze loyalty_flag & days_since_prior_order\n",
    "\n",
    "usage_freq4 = df.groupby('loyalty_flag').agg(({'total_spent': ['mean', 'min', 'std', 'max']}))\n",
    "usage_freq4"
   ]
  },
  {
   "cell_type": "code",
   "execution_count": 151,
   "id": "4d57dcd2-aac1-46dd-bb7a-129b30463289",
   "metadata": {},
   "outputs": [
    {
     "data": {
      "text/html": [
       "<div>\n",
       "<style scoped>\n",
       "    .dataframe tbody tr th:only-of-type {\n",
       "        vertical-align: middle;\n",
       "    }\n",
       "\n",
       "    .dataframe tbody tr th {\n",
       "        vertical-align: top;\n",
       "    }\n",
       "\n",
       "    .dataframe thead th {\n",
       "        text-align: right;\n",
       "    }\n",
       "</style>\n",
       "<table border=\"1\" class=\"dataframe\">\n",
       "  <thead>\n",
       "    <tr style=\"text-align: right;\">\n",
       "      <th>fam_status</th>\n",
       "      <th>divorced/widowed</th>\n",
       "      <th>living with parents and siblings</th>\n",
       "      <th>married</th>\n",
       "      <th>single</th>\n",
       "    </tr>\n",
       "    <tr>\n",
       "      <th>age_group</th>\n",
       "      <th></th>\n",
       "      <th></th>\n",
       "      <th></th>\n",
       "      <th></th>\n",
       "    </tr>\n",
       "  </thead>\n",
       "  <tbody>\n",
       "    <tr>\n",
       "      <th>Adult (21-39)</th>\n",
       "      <td>0</td>\n",
       "      <td>389886</td>\n",
       "      <td>6837748</td>\n",
       "      <td>2422159</td>\n",
       "    </tr>\n",
       "    <tr>\n",
       "      <th>Middle Aged (40-64)</th>\n",
       "      <td>652296</td>\n",
       "      <td>0</td>\n",
       "      <td>9478660</td>\n",
       "      <td>2546462</td>\n",
       "    </tr>\n",
       "    <tr>\n",
       "      <th>Senior (65+)</th>\n",
       "      <td>2122132</td>\n",
       "      <td>0</td>\n",
       "      <td>6460505</td>\n",
       "      <td>0</td>\n",
       "    </tr>\n",
       "    <tr>\n",
       "      <th>Young Adult (&lt;21)</th>\n",
       "      <td>0</td>\n",
       "      <td>1162216</td>\n",
       "      <td>0</td>\n",
       "      <td>362148</td>\n",
       "    </tr>\n",
       "  </tbody>\n",
       "</table>\n",
       "</div>"
      ],
      "text/plain": [
       "fam_status           divorced/widowed  living with parents and siblings  \\\n",
       "age_group                                                                 \n",
       "Adult (21-39)                       0                            389886   \n",
       "Middle Aged (40-64)            652296                                 0   \n",
       "Senior (65+)                  2122132                                 0   \n",
       "Young Adult (<21)                   0                           1162216   \n",
       "\n",
       "fam_status           married   single  \n",
       "age_group                              \n",
       "Adult (21-39)        6837748  2422159  \n",
       "Middle Aged (40-64)  9478660  2546462  \n",
       "Senior (65+)         6460505        0  \n",
       "Young Adult (<21)          0   362148  "
      ]
     },
     "execution_count": 151,
     "metadata": {},
     "output_type": "execute_result"
    }
   ],
   "source": [
    "# Analyze fam_status & ordering habits\n",
    "\n",
    "age_fam_status = pd.crosstab(df['age_group'], df['fam_status'], dropna = False)\n",
    "age_fam_status"
   ]
  },
  {
   "cell_type": "code",
   "execution_count": 152,
   "id": "742c70e8-dec4-4ef5-983a-a1d70946a4d2",
   "metadata": {},
   "outputs": [
    {
     "data": {
      "image/png": "[encoded data removed]",
      "text/plain": [
       "<Figure size 640x480 with 1 Axes>"
      ]
     },
     "metadata": {},
     "output_type": "display_data"
    }
   ],
   "source": [
    "# Grouping department_name and fam_status\n",
    "\n",
    "bar_dept_fam_status = df.groupby(['department_name', 'fam_status']).size().unstack()\n",
    "\n",
    "# Sort values large to small\n",
    "bar_dept_fam_status = bar_dept_fam_status.sort_values(by = ['single'], ascending = False)\n",
    "\n",
    "# Creating bar chart\n",
    "colors = ['lightblue', 'red', 'yellow','lightgreen']\n",
    "bar_dept_fam_status = bar_dept_fam_status.plot(kind='bar', stacked=True, edgecolor = 'black', color = colors)\n",
    "plt.title('Department Purchases by Family Status')\n",
    "plt.xlabel('Department')\n",
    "plt.ylabel('Order Count')\n",
    "plt.tight_layout()\n",
    "plt.show()\n",
    "\n",
    "# Saving as PNG\n",
    "bar_dept_fam_status.figure.savefig(os.path.join(path, '04 Analysis','Visualizations', 'bar_dept_fam_status .png'))"
   ]
  },
  {
   "cell_type": "code",
   "execution_count": 153,
   "id": "b4641dd6-df66-4f71-a81c-bb4dca2c1e2d",
   "metadata": {},
   "outputs": [
    {
     "data": {
      "image/png": "[encoded data removed]",
      "text/plain": [
       "<Figure size 640x480 with 1 Axes>"
      ]
     },
     "metadata": {},
     "output_type": "display_data"
    }
   ],
   "source": [
    "# Analyze age and ordering habits\n",
    "\n",
    "bar_dept_age = df.groupby(['department_name', 'age_group']).size().unstack()\n",
    "\n",
    "# Sort values large to small\n",
    "bar_dept_age = bar_dept_age.sort_values(by = ['Middle Aged (40-64)'], ascending = False)\n",
    "\n",
    "# Creating bar chart\n",
    "colors = ['cornflowerblue', 'firebrick', 'gold','lightgreen']\n",
    "bar_dept_age = bar_dept_age.plot(kind='bar', stacked=True, edgecolor = 'black', color = colors)\n",
    "plt.title('Department Purchases by Age Group')\n",
    "plt.xlabel('Department')\n",
    "plt.ylabel('Order Count')\n",
    "plt.tight_layout()\n",
    "plt.show()\n",
    "\n",
    "# Saving as PNG\n",
    "bar_dept_age.figure.savefig(os.path.join(path, '04 Analysis','Visualizations', 'bar_dept_age .png'))"
   ]
  },
  {
   "cell_type": "code",
   "execution_count": 154,
   "id": "4c5d497f-1a94-4e7b-a3b5-5f76b5e881bf",
   "metadata": {},
   "outputs": [
    {
     "data": {
      "text/html": [
       "<div>\n",
       "<style scoped>\n",
       "    .dataframe tbody tr th:only-of-type {\n",
       "        vertical-align: middle;\n",
       "    }\n",
       "\n",
       "    .dataframe tbody tr th {\n",
       "        vertical-align: top;\n",
       "    }\n",
       "\n",
       "    .dataframe thead tr th {\n",
       "        text-align: left;\n",
       "    }\n",
       "\n",
       "    .dataframe thead tr:last-of-type th {\n",
       "        text-align: right;\n",
       "    }\n",
       "</style>\n",
       "<table border=\"1\" class=\"dataframe\">\n",
       "  <thead>\n",
       "    <tr>\n",
       "      <th></th>\n",
       "      <th colspan=\"4\" halign=\"left\">days_since_prior_order</th>\n",
       "    </tr>\n",
       "    <tr>\n",
       "      <th></th>\n",
       "      <th>mean</th>\n",
       "      <th>min</th>\n",
       "      <th>std</th>\n",
       "      <th>max</th>\n",
       "    </tr>\n",
       "    <tr>\n",
       "      <th>age_group</th>\n",
       "      <th></th>\n",
       "      <th></th>\n",
       "      <th></th>\n",
       "      <th></th>\n",
       "    </tr>\n",
       "  </thead>\n",
       "  <tbody>\n",
       "    <tr>\n",
       "      <th>Adult (21-39)</th>\n",
       "      <td>11.098938</td>\n",
       "      <td>0.0</td>\n",
       "      <td>8.752963</td>\n",
       "      <td>30.0</td>\n",
       "    </tr>\n",
       "    <tr>\n",
       "      <th>Middle Aged (40-64)</th>\n",
       "      <td>11.117828</td>\n",
       "      <td>0.0</td>\n",
       "      <td>8.797748</td>\n",
       "      <td>30.0</td>\n",
       "    </tr>\n",
       "    <tr>\n",
       "      <th>Senior (65+)</th>\n",
       "      <td>11.079006</td>\n",
       "      <td>0.0</td>\n",
       "      <td>8.771372</td>\n",
       "      <td>30.0</td>\n",
       "    </tr>\n",
       "    <tr>\n",
       "      <th>Young Adult (&lt;21)</th>\n",
       "      <td>11.165224</td>\n",
       "      <td>0.0</td>\n",
       "      <td>8.828628</td>\n",
       "      <td>30.0</td>\n",
       "    </tr>\n",
       "  </tbody>\n",
       "</table>\n",
       "</div>"
      ],
      "text/plain": [
       "                    days_since_prior_order                     \n",
       "                                      mean  min       std   max\n",
       "age_group                                                      \n",
       "Adult (21-39)                    11.098938  0.0  8.752963  30.0\n",
       "Middle Aged (40-64)              11.117828  0.0  8.797748  30.0\n",
       "Senior (65+)                     11.079006  0.0  8.771372  30.0\n",
       "Young Adult (<21)                11.165224  0.0  8.828628  30.0"
      ]
     },
     "execution_count": 154,
     "metadata": {},
     "output_type": "execute_result"
    }
   ],
   "source": [
    "# Frequency of age_group & days_since_prior_order\n",
    "\n",
    "usage_freq4 = df.groupby('age_group').agg(({'days_since_prior_order': ['mean', 'min', 'std', 'max']}))\n",
    "usage_freq4"
   ]
  },
  {
   "cell_type": "code",
   "execution_count": 155,
   "id": "c0145d12-0d20-4b10-b3b0-f96945a76b06",
   "metadata": {},
   "outputs": [
    {
     "data": {
      "text/html": [
       "<div>\n",
       "<style scoped>\n",
       "    .dataframe tbody tr th:only-of-type {\n",
       "        vertical-align: middle;\n",
       "    }\n",
       "\n",
       "    .dataframe tbody tr th {\n",
       "        vertical-align: top;\n",
       "    }\n",
       "\n",
       "    .dataframe thead tr th {\n",
       "        text-align: left;\n",
       "    }\n",
       "\n",
       "    .dataframe thead tr:last-of-type th {\n",
       "        text-align: right;\n",
       "    }\n",
       "</style>\n",
       "<table border=\"1\" class=\"dataframe\">\n",
       "  <thead>\n",
       "    <tr>\n",
       "      <th></th>\n",
       "      <th colspan=\"4\" halign=\"left\">days_since_prior_order</th>\n",
       "    </tr>\n",
       "    <tr>\n",
       "      <th></th>\n",
       "      <th>mean</th>\n",
       "      <th>min</th>\n",
       "      <th>std</th>\n",
       "      <th>max</th>\n",
       "    </tr>\n",
       "    <tr>\n",
       "      <th>fam_status</th>\n",
       "      <th></th>\n",
       "      <th></th>\n",
       "      <th></th>\n",
       "      <th></th>\n",
       "    </tr>\n",
       "  </thead>\n",
       "  <tbody>\n",
       "    <tr>\n",
       "      <th>divorced/widowed</th>\n",
       "      <td>11.047967</td>\n",
       "      <td>0.0</td>\n",
       "      <td>8.786195</td>\n",
       "      <td>30.0</td>\n",
       "    </tr>\n",
       "    <tr>\n",
       "      <th>living with parents and siblings</th>\n",
       "      <td>11.047919</td>\n",
       "      <td>0.0</td>\n",
       "      <td>8.764030</td>\n",
       "      <td>30.0</td>\n",
       "    </tr>\n",
       "    <tr>\n",
       "      <th>married</th>\n",
       "      <td>11.116379</td>\n",
       "      <td>0.0</td>\n",
       "      <td>8.780993</td>\n",
       "      <td>30.0</td>\n",
       "    </tr>\n",
       "    <tr>\n",
       "      <th>single</th>\n",
       "      <td>11.097592</td>\n",
       "      <td>0.0</td>\n",
       "      <td>8.770563</td>\n",
       "      <td>30.0</td>\n",
       "    </tr>\n",
       "  </tbody>\n",
       "</table>\n",
       "</div>"
      ],
      "text/plain": [
       "                                 days_since_prior_order                     \n",
       "                                                   mean  min       std   max\n",
       "fam_status                                                                  \n",
       "divorced/widowed                              11.047967  0.0  8.786195  30.0\n",
       "living with parents and siblings              11.047919  0.0  8.764030  30.0\n",
       "married                                       11.116379  0.0  8.780993  30.0\n",
       "single                                        11.097592  0.0  8.770563  30.0"
      ]
     },
     "execution_count": 155,
     "metadata": {},
     "output_type": "execute_result"
    }
   ],
   "source": [
    "# Frequency of fam_status & days_since_prior_order\n",
    "\n",
    "usage_freq4 = df.groupby('fam_status').agg(({'days_since_prior_order': ['mean', 'min', 'std', 'max']}))\n",
    "usage_freq4"
   ]
  },
  {
   "cell_type": "code",
   "execution_count": 156,
   "id": "3240bf3e-932c-49f0-a20a-fd41aa55eb36",
   "metadata": {},
   "outputs": [
    {
     "data": {
      "text/html": [
       "<div>\n",
       "<style scoped>\n",
       "    .dataframe tbody tr th:only-of-type {\n",
       "        vertical-align: middle;\n",
       "    }\n",
       "\n",
       "    .dataframe tbody tr th {\n",
       "        vertical-align: top;\n",
       "    }\n",
       "\n",
       "    .dataframe thead tr th {\n",
       "        text-align: left;\n",
       "    }\n",
       "\n",
       "    .dataframe thead tr:last-of-type th {\n",
       "        text-align: right;\n",
       "    }\n",
       "</style>\n",
       "<table border=\"1\" class=\"dataframe\">\n",
       "  <thead>\n",
       "    <tr>\n",
       "      <th></th>\n",
       "      <th colspan=\"4\" halign=\"left\">total_spent</th>\n",
       "    </tr>\n",
       "    <tr>\n",
       "      <th></th>\n",
       "      <th>mean</th>\n",
       "      <th>min</th>\n",
       "      <th>std</th>\n",
       "      <th>max</th>\n",
       "    </tr>\n",
       "    <tr>\n",
       "      <th>fam_status</th>\n",
       "      <th></th>\n",
       "      <th></th>\n",
       "      <th></th>\n",
       "      <th></th>\n",
       "    </tr>\n",
       "  </thead>\n",
       "  <tbody>\n",
       "    <tr>\n",
       "      <th>divorced/widowed</th>\n",
       "      <td>3325.605158</td>\n",
       "      <td>3.6</td>\n",
       "      <td>3042.040176</td>\n",
       "      <td>24319.3</td>\n",
       "    </tr>\n",
       "    <tr>\n",
       "      <th>living with parents and siblings</th>\n",
       "      <td>3326.937607</td>\n",
       "      <td>3.9</td>\n",
       "      <td>2850.399708</td>\n",
       "      <td>16048.1</td>\n",
       "    </tr>\n",
       "    <tr>\n",
       "      <th>married</th>\n",
       "      <td>3281.376078</td>\n",
       "      <td>3.0</td>\n",
       "      <td>2934.985581</td>\n",
       "      <td>26651.1</td>\n",
       "    </tr>\n",
       "    <tr>\n",
       "      <th>single</th>\n",
       "      <td>3284.374220</td>\n",
       "      <td>3.0</td>\n",
       "      <td>2900.185482</td>\n",
       "      <td>20315.1</td>\n",
       "    </tr>\n",
       "  </tbody>\n",
       "</table>\n",
       "</div>"
      ],
      "text/plain": [
       "                                  total_spent                           \n",
       "                                         mean  min          std      max\n",
       "fam_status                                                              \n",
       "divorced/widowed                  3325.605158  3.6  3042.040176  24319.3\n",
       "living with parents and siblings  3326.937607  3.9  2850.399708  16048.1\n",
       "married                           3281.376078  3.0  2934.985581  26651.1\n",
       "single                            3284.374220  3.0  2900.185482  20315.1"
      ]
     },
     "execution_count": 156,
     "metadata": {},
     "output_type": "execute_result"
    }
   ],
   "source": [
    "# Frequency of fam_status & total_spent\n",
    "\n",
    "usage_freq5 = df.groupby('fam_status').agg(({'total_spent': ['mean', 'min', 'std', 'max']}))\n",
    "usage_freq5"
   ]
  },
  {
   "cell_type": "code",
   "execution_count": 157,
   "id": "558ada2a-d72c-4bce-bb75-552ff3908a75",
   "metadata": {},
   "outputs": [
    {
     "data": {
      "image/png": "[encoded data removed]",
      "text/plain": [
       "<Figure size 640x480 with 1 Axes>"
      ]
     },
     "metadata": {},
     "output_type": "display_data"
    }
   ],
   "source": [
    "# Age & income scatter plot\n",
    "\n",
    "scatter_income_age = sns.scatterplot(x = 'age', y = 'income',data = df)\n",
    "plt.title('Age vs Income Scatterplot ')\n",
    "plt.xlabel('Age')\n",
    "plt.ylabel('Income')\n",
    "plt.tight_layout()\n",
    "\n",
    "# Export scatterplot\n",
    "\n",
    "scatter_income_age.figure.savefig(os.path.join(path, '04 Analysis','Visualizations', 'scatter_income_age.png'))"
   ]
  },
  {
   "cell_type": "markdown",
   "id": "c04363cf-90cc-4c56-8f49-60473366d7f0",
   "metadata": {},
   "source": [
    "#### - This scatterplot shows the majority of users aged 20-80 reported income between 0 & 20k. The smallest group of users with reported income between 40k & 60k are ages 40-80. We can conclude that users 40 and older have higher income than users 39 and younger."
   ]
  },
  {
   "cell_type": "code",
   "execution_count": 158,
   "id": "087b3ed3-84ba-48f5-849f-1614ded14d39",
   "metadata": {},
   "outputs": [],
   "source": [
    "# Export dataset\n",
    "\n",
    "df.to_pickle(os.path.join(path, '02 Data', 'Prepared Data', 'final_project.pkl'))"
   ]
  }
 ],
 "metadata": {
  "kernelspec": {
   "display_name": "Python 3 (ipykernel)",
   "language": "python",
   "name": "python3"
  },
  "language_info": {
   "codemirror_mode": {
    "name": "ipython",
    "version": 3
   },
   "file_extension": ".py",
   "mimetype": "text/x-python",
   "name": "python",
   "nbconvert_exporter": "python",
   "pygments_lexer": "ipython3",
   "version": "3.11.7"
  }
 },
 "nbformat": 4,
 "nbformat_minor": 5
}
