{
 "cells": [
  {
   "cell_type": "code",
   "execution_count": 2,
   "id": "6057ff50-baa7-4c95-82a1-a2ba954097f5",
   "metadata": {},
   "outputs": [],
   "source": [
    "# Import libraries"
   ]
  },
  {
   "cell_type": "code",
   "execution_count": 4,
   "id": "4fc1ae7a-7f6b-41da-bf47-cbfc1d388e52",
   "metadata": {},
   "outputs": [],
   "source": [
    "import pandas as pd\n",
    "import numpy as np\n",
    "import os"
   ]
  },
  {
   "cell_type": "code",
   "execution_count": 5,
   "id": "a396d21b-4c1f-4697-a259-ad4b87ba74a6",
   "metadata": {},
   "outputs": [],
   "source": [
    "# Python Data Types"
   ]
  },
  {
   "cell_type": "code",
   "execution_count": 6,
   "id": "1b984d00-aa20-4fe9-9ea2-b1fe6b14b650",
   "metadata": {},
   "outputs": [],
   "source": [
    "x = 10\n",
    "y = 5"
   ]
  },
  {
   "cell_type": "code",
   "execution_count": 7,
   "id": "4191d87e-51e4-4a5e-b263-12ce070e4484",
   "metadata": {},
   "outputs": [
    {
     "name": "stdout",
     "output_type": "stream",
     "text": [
      "100\n"
     ]
    }
   ],
   "source": [
    "print(x*10)"
   ]
  },
  {
   "cell_type": "code",
   "execution_count": 8,
   "id": "d4e24448-6d69-4fa6-bbb5-2659d104b970",
   "metadata": {},
   "outputs": [
    {
     "name": "stdout",
     "output_type": "stream",
     "text": [
      "100.0\n"
     ]
    }
   ],
   "source": [
    "print(500/y)"
   ]
  },
  {
   "cell_type": "code",
   "execution_count": 10,
   "id": "d74d51a4-d631-4054-a328-25454e5ae6d7",
   "metadata": {},
   "outputs": [
    {
     "name": "stdout",
     "output_type": "stream",
     "text": [
      "100\n"
     ]
    }
   ],
   "source": [
    "print(x*y*2)"
   ]
  },
  {
   "cell_type": "code",
   "execution_count": 11,
   "id": "a50b697a-bd99-4fae-9db2-86b41cc7d7a0",
   "metadata": {},
   "outputs": [],
   "source": [
    "a = 2.34\n",
    "b = 5.67"
   ]
  },
  {
   "cell_type": "code",
   "execution_count": 12,
   "id": "a5823500-a140-4715-9ebb-edcf791c7f88",
   "metadata": {},
   "outputs": [
    {
     "data": {
      "text/plain": [
       "0.4126984126984127"
      ]
     },
     "execution_count": 12,
     "metadata": {},
     "output_type": "execute_result"
    }
   ],
   "source": [
    "a/b"
   ]
  },
  {
   "cell_type": "code",
   "execution_count": 14,
   "id": "a10d7ae0-9079-493f-a14a-e315eaf1093d",
   "metadata": {},
   "outputs": [],
   "source": [
    "q = 'rain'\n",
    "z = 'bow'"
   ]
  },
  {
   "cell_type": "code",
   "execution_count": 15,
   "id": "7f3bad15-56ff-43b6-8649-b9bdc039f19a",
   "metadata": {},
   "outputs": [
    {
     "data": {
      "text/plain": [
       "'rainbow'"
      ]
     },
     "execution_count": 15,
     "metadata": {},
     "output_type": "execute_result"
    }
   ],
   "source": [
    "q+z"
   ]
  },
  {
   "cell_type": "code",
   "execution_count": 22,
   "id": "adb66acc-9bc5-4da4-bc78-f948e1c13b0a",
   "metadata": {},
   "outputs": [],
   "source": [
    "t = 'Terry  '"
   ]
  },
  {
   "cell_type": "code",
   "execution_count": 18,
   "id": "5b0590fb-53d1-457f-b7db-f00e956439f0",
   "metadata": {},
   "outputs": [],
   "source": [
    "r = 'loves '"
   ]
  },
  {
   "cell_type": "code",
   "execution_count": 19,
   "id": "08039f58-246c-4419-8f03-f0ef44582f9d",
   "metadata": {},
   "outputs": [],
   "source": [
    "e = 'yogurt.'"
   ]
  },
  {
   "cell_type": "code",
   "execution_count": 25,
   "id": "488573c9-3a03-46e7-b325-e9f4418d996d",
   "metadata": {},
   "outputs": [],
   "source": [
    "p = 'Jake '\n",
    "d = 'sells '\n",
    "o = 'bikes.'"
   ]
  },
  {
   "cell_type": "code",
   "execution_count": 23,
   "id": "a3b05b49-f8e2-4b9f-acf9-2546c0023dd3",
   "metadata": {},
   "outputs": [
    {
     "data": {
      "text/plain": [
       "'Terry  loves yogurt.'"
      ]
     },
     "execution_count": 23,
     "metadata": {},
     "output_type": "execute_result"
    }
   ],
   "source": [
    "t + r + e"
   ]
  },
  {
   "cell_type": "code",
   "execution_count": 26,
   "id": "7c8717aa-8e8d-4bd3-b026-2a2c38da1818",
   "metadata": {},
   "outputs": [
    {
     "data": {
      "text/plain": [
       "'Jake sells bikes.'"
      ]
     },
     "execution_count": 26,
     "metadata": {},
     "output_type": "execute_result"
    }
   ],
   "source": [
    "p+d+o"
   ]
  },
  {
   "cell_type": "code",
   "execution_count": 30,
   "id": "08670428-9575-4311-a280-6901518f5ac7",
   "metadata": {},
   "outputs": [
    {
     "data": {
      "text/plain": [
       "'tacostacostacostacostacostacostacostacostacostacostacostacostacostacostacostacostacostacostacostacostacostacostacostacostacostacostacostacostacostacostacostacostacostacostacostacostacostacostacostacostacostacostacostacostacostacostacostacostacostacostacostacostacostacostacostacostacostacostacostacostacostacostacostacostacostacostacostacostacostacostacostacostacostacostacostacostacostacostacostacostacostacostacostacostacostacostacostacostacostacostacostacostacostacostacostacostacostacostacostacos'"
      ]
     },
     "execution_count": 30,
     "metadata": {},
     "output_type": "execute_result"
    }
   ],
   "source": [
    "k = 'tacos'\n",
    "k * 100"
   ]
  }
 ],
 "metadata": {
  "kernelspec": {
   "display_name": "Python 3 (ipykernel)",
   "language": "python",
   "name": "python3"
  },
  "language_info": {
   "codemirror_mode": {
    "name": "ipython",
    "version": 3
   },
   "file_extension": ".py",
   "mimetype": "text/x-python",
   "name": "python",
   "nbconvert_exporter": "python",
   "pygments_lexer": "ipython3",
   "version": "3.11.7"
  }
 },
 "nbformat": 4,
 "nbformat_minor": 5
}
