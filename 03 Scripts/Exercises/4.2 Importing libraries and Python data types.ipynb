{
 "cells": [
  {
   "cell_type": "markdown",
   "id": "715fb120-bed2-4d13-bb8d-12135f786d91",
   "metadata": {},
   "source": [
    "#01. Importing Libraries"
   ]
  },
  {
   "cell_type": "code",
   "execution_count": 1,
   "id": "bc456025-c2d8-4a46-b605-4cba55032694",
   "metadata": {},
   "outputs": [],
   "source": [
    "# Import libraries\n",
    "import pandas as pd\n",
    "import numpy as np\n",
    "import os"
   ]
  },
  {
   "cell_type": "code",
   "execution_count": null,
   "id": "3c941d48-641f-43d7-994a-378311ce827c",
   "metadata": {},
   "outputs": [],
   "source": [
    "# new line"
   ]
  },
  {
   "cell_type": "code",
   "execution_count": 5,
   "id": "4a047951-95c0-4be7-a646-44c733f6c77b",
   "metadata": {},
   "outputs": [],
   "source": [
    "x = 2"
   ]
  },
  {
   "cell_type": "code",
   "execution_count": 6,
   "id": "306b102e-59e0-48bb-af74-334ff5ad20b5",
   "metadata": {},
   "outputs": [
    {
     "data": {
      "text/plain": [
       "2"
      ]
     },
     "execution_count": 6,
     "metadata": {},
     "output_type": "execute_result"
    }
   ],
   "source": [
    "x"
   ]
  },
  {
   "cell_type": "code",
   "execution_count": 7,
   "id": "3b16b58a-89c8-4792-8734-589f37b31660",
   "metadata": {},
   "outputs": [
    {
     "name": "stdout",
     "output_type": "stream",
     "text": [
      "2\n"
     ]
    }
   ],
   "source": [
    "print(x)"
   ]
  },
  {
   "cell_type": "code",
   "execution_count": 8,
   "id": "c2542af3-09bb-40c8-bf84-8869e0a08540",
   "metadata": {},
   "outputs": [
    {
     "data": {
      "text/plain": [
       "int"
      ]
     },
     "execution_count": 8,
     "metadata": {},
     "output_type": "execute_result"
    }
   ],
   "source": [
    "type(x)"
   ]
  },
  {
   "cell_type": "code",
   "execution_count": 9,
   "id": "7baa6065-2c5c-47c7-b373-5ed117b13e7c",
   "metadata": {},
   "outputs": [],
   "source": [
    "y = 5.678"
   ]
  },
  {
   "cell_type": "code",
   "execution_count": 10,
   "id": "c829eea0-d8ea-4bad-8586-d04c6df14653",
   "metadata": {},
   "outputs": [
    {
     "data": {
      "text/plain": [
       "float"
      ]
     },
     "execution_count": 10,
     "metadata": {},
     "output_type": "execute_result"
    }
   ],
   "source": [
    "type(y)"
   ]
  },
  {
   "cell_type": "code",
   "execution_count": 11,
   "id": "87fbda35-19d9-4b8f-9ce8-ca4e6f6b1419",
   "metadata": {},
   "outputs": [],
   "source": [
    "z = 'Brazil'"
   ]
  },
  {
   "cell_type": "code",
   "execution_count": 12,
   "id": "7f866b43-ae0f-4e0f-ba97-2e0c864aab06",
   "metadata": {},
   "outputs": [
    {
     "data": {
      "text/plain": [
       "str"
      ]
     },
     "execution_count": 12,
     "metadata": {},
     "output_type": "execute_result"
    }
   ],
   "source": [
    "type(z)"
   ]
  },
  {
   "cell_type": "code",
   "execution_count": 13,
   "id": "d2808ab9-d653-4e89-b7cf-18276c7c0c91",
   "metadata": {},
   "outputs": [
    {
     "data": {
      "text/plain": [
       "bool"
      ]
     },
     "execution_count": 13,
     "metadata": {},
     "output_type": "execute_result"
    }
   ],
   "source": [
    "type(True)"
   ]
  },
  {
   "cell_type": "code",
   "execution_count": 14,
   "id": "5dcdc508-2fb6-4981-a599-ddba2980f11a",
   "metadata": {},
   "outputs": [
    {
     "data": {
      "text/plain": [
       "7.678"
      ]
     },
     "execution_count": 14,
     "metadata": {},
     "output_type": "execute_result"
    }
   ],
   "source": [
    "x + y"
   ]
  },
  {
   "cell_type": "code",
   "execution_count": 15,
   "id": "8f0854bb-ded8-4379-b421-028e6d55aa4d",
   "metadata": {},
   "outputs": [],
   "source": [
    "x = x + 4"
   ]
  },
  {
   "cell_type": "code",
   "execution_count": 16,
   "id": "d44f8ca6-339a-4f8c-a8df-0fa13b4d91dc",
   "metadata": {},
   "outputs": [
    {
     "name": "stdout",
     "output_type": "stream",
     "text": [
      "6\n"
     ]
    }
   ],
   "source": [
    "print(x)"
   ]
  },
  {
   "cell_type": "code",
   "execution_count": 20,
   "id": "f5d024a3-469f-4a6f-8af9-0fb4b35bd9b7",
   "metadata": {},
   "outputs": [],
   "source": [
    "a = 'Hello, '"
   ]
  },
  {
   "cell_type": "code",
   "execution_count": 18,
   "id": "8ca1eda7-0af4-4b0e-8f1a-0d2404a89713",
   "metadata": {},
   "outputs": [],
   "source": [
    "b = 'Marley'"
   ]
  },
  {
   "cell_type": "code",
   "execution_count": 21,
   "id": "01d5672a-7f22-4ab1-b03e-60edf1d9678c",
   "metadata": {},
   "outputs": [
    {
     "data": {
      "text/plain": [
       "'Hello, Marley'"
      ]
     },
     "execution_count": 21,
     "metadata": {},
     "output_type": "execute_result"
    }
   ],
   "source": [
    "a + b"
   ]
  },
  {
   "cell_type": "code",
   "execution_count": 22,
   "id": "16dddd5f-3729-4ea8-9000-baa673ab3947",
   "metadata": {},
   "outputs": [
    {
     "data": {
      "text/plain": [
       "False"
      ]
     },
     "execution_count": 22,
     "metadata": {},
     "output_type": "execute_result"
    }
   ],
   "source": [
    "x == y"
   ]
  },
  {
   "cell_type": "code",
   "execution_count": 23,
   "id": "38259946-d67e-49e3-9386-11a64f5b64eb",
   "metadata": {},
   "outputs": [
    {
     "data": {
      "text/plain": [
       "bool"
      ]
     },
     "execution_count": 23,
     "metadata": {},
     "output_type": "execute_result"
    }
   ],
   "source": [
    "type(x == y)"
   ]
  },
  {
   "cell_type": "code",
   "execution_count": null,
   "id": "3a78abeb-2a21-49f9-b34a-b57d93c5d809",
   "metadata": {},
   "outputs": [],
   "source": []
  }
 ],
 "metadata": {
  "kernelspec": {
   "display_name": "Python 3 (ipykernel)",
   "language": "python",
   "name": "python3"
  },
  "language_info": {
   "codemirror_mode": {
    "name": "ipython",
    "version": 3
   },
   "file_extension": ".py",
   "mimetype": "text/x-python",
   "name": "python",
   "nbconvert_exporter": "python",
   "pygments_lexer": "ipython3",
   "version": "3.11.7"
  }
 },
 "nbformat": 4,
 "nbformat_minor": 5
}
